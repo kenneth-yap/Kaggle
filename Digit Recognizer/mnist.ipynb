{
 "cells": [
  {
   "cell_type": "code",
   "execution_count": 1,
   "id": "e72a05b5",
   "metadata": {
    "execution": {
     "iopub.execute_input": "2023-12-04T21:56:01.751994Z",
     "iopub.status.busy": "2023-12-04T21:56:01.751500Z",
     "iopub.status.idle": "2023-12-04T21:56:02.860081Z",
     "shell.execute_reply": "2023-12-04T21:56:02.859157Z"
    },
    "papermill": {
     "duration": 1.130322,
     "end_time": "2023-12-04T21:56:02.862707",
     "exception": false,
     "start_time": "2023-12-04T21:56:01.732385",
     "status": "completed"
    },
    "tags": []
   },
   "outputs": [],
   "source": [
    "import numpy as np\n",
    "import pandas as pd\n",
    "import matplotlib.pyplot as plt\n",
    "import matplotlib.image as mpimg\n",
    "%matplotlib inline\n",
    "import seaborn as sns\n",
    "import tensorflow as tf\n",
    "from keras.utils import to_categorical \n",
    "from IPython.core.interactiveshell import InteractiveShell\n",
    "InteractiveShell.ast_node_interactivity = \"all\""
   ]
  },
  {
   "cell_type": "markdown",
   "id": "fa8fa5c8",
   "metadata": {
    "papermill": {
     "duration": 0.016911,
     "end_time": "2023-12-04T21:56:02.940582",
     "exception": false,
     "start_time": "2023-12-04T21:56:02.923671",
     "status": "completed"
    },
    "tags": []
   },
   "source": [
    "# 1.0 Import training data"
   ]
  },
  {
   "cell_type": "code",
   "execution_count": 2,
   "id": "f492307e",
   "metadata": {
    "execution": {
     "iopub.execute_input": "2023-12-04T21:56:02.976482Z",
     "iopub.status.busy": "2023-12-04T21:56:02.976213Z",
     "iopub.status.idle": "2023-12-04T21:56:06.564550Z",
     "shell.execute_reply": "2023-12-04T21:56:06.563493Z"
    },
    "papermill": {
     "duration": 3.608885,
     "end_time": "2023-12-04T21:56:06.567226",
     "exception": false,
     "start_time": "2023-12-04T21:56:02.958341",
     "status": "completed"
    },
    "tags": []
   },
   "outputs": [
    {
     "data": {
      "text/html": [
       "<div>\n",
       "<style scoped>\n",
       "    .dataframe tbody tr th:only-of-type {\n",
       "        vertical-align: middle;\n",
       "    }\n",
       "\n",
       "    .dataframe tbody tr th {\n",
       "        vertical-align: top;\n",
       "    }\n",
       "\n",
       "    .dataframe thead th {\n",
       "        text-align: right;\n",
       "    }\n",
       "</style>\n",
       "<table border=\"1\" class=\"dataframe\">\n",
       "  <thead>\n",
       "    <tr style=\"text-align: right;\">\n",
       "      <th></th>\n",
       "      <th>label</th>\n",
       "      <th>pixel0</th>\n",
       "      <th>pixel1</th>\n",
       "      <th>pixel2</th>\n",
       "      <th>pixel3</th>\n",
       "      <th>pixel4</th>\n",
       "      <th>pixel5</th>\n",
       "      <th>pixel6</th>\n",
       "      <th>pixel7</th>\n",
       "      <th>pixel8</th>\n",
       "      <th>...</th>\n",
       "      <th>pixel774</th>\n",
       "      <th>pixel775</th>\n",
       "      <th>pixel776</th>\n",
       "      <th>pixel777</th>\n",
       "      <th>pixel778</th>\n",
       "      <th>pixel779</th>\n",
       "      <th>pixel780</th>\n",
       "      <th>pixel781</th>\n",
       "      <th>pixel782</th>\n",
       "      <th>pixel783</th>\n",
       "    </tr>\n",
       "  </thead>\n",
       "  <tbody>\n",
       "    <tr>\n",
       "      <th>0</th>\n",
       "      <td>1</td>\n",
       "      <td>0</td>\n",
       "      <td>0</td>\n",
       "      <td>0</td>\n",
       "      <td>0</td>\n",
       "      <td>0</td>\n",
       "      <td>0</td>\n",
       "      <td>0</td>\n",
       "      <td>0</td>\n",
       "      <td>0</td>\n",
       "      <td>...</td>\n",
       "      <td>0</td>\n",
       "      <td>0</td>\n",
       "      <td>0</td>\n",
       "      <td>0</td>\n",
       "      <td>0</td>\n",
       "      <td>0</td>\n",
       "      <td>0</td>\n",
       "      <td>0</td>\n",
       "      <td>0</td>\n",
       "      <td>0</td>\n",
       "    </tr>\n",
       "    <tr>\n",
       "      <th>1</th>\n",
       "      <td>0</td>\n",
       "      <td>0</td>\n",
       "      <td>0</td>\n",
       "      <td>0</td>\n",
       "      <td>0</td>\n",
       "      <td>0</td>\n",
       "      <td>0</td>\n",
       "      <td>0</td>\n",
       "      <td>0</td>\n",
       "      <td>0</td>\n",
       "      <td>...</td>\n",
       "      <td>0</td>\n",
       "      <td>0</td>\n",
       "      <td>0</td>\n",
       "      <td>0</td>\n",
       "      <td>0</td>\n",
       "      <td>0</td>\n",
       "      <td>0</td>\n",
       "      <td>0</td>\n",
       "      <td>0</td>\n",
       "      <td>0</td>\n",
       "    </tr>\n",
       "    <tr>\n",
       "      <th>2</th>\n",
       "      <td>1</td>\n",
       "      <td>0</td>\n",
       "      <td>0</td>\n",
       "      <td>0</td>\n",
       "      <td>0</td>\n",
       "      <td>0</td>\n",
       "      <td>0</td>\n",
       "      <td>0</td>\n",
       "      <td>0</td>\n",
       "      <td>0</td>\n",
       "      <td>...</td>\n",
       "      <td>0</td>\n",
       "      <td>0</td>\n",
       "      <td>0</td>\n",
       "      <td>0</td>\n",
       "      <td>0</td>\n",
       "      <td>0</td>\n",
       "      <td>0</td>\n",
       "      <td>0</td>\n",
       "      <td>0</td>\n",
       "      <td>0</td>\n",
       "    </tr>\n",
       "    <tr>\n",
       "      <th>3</th>\n",
       "      <td>4</td>\n",
       "      <td>0</td>\n",
       "      <td>0</td>\n",
       "      <td>0</td>\n",
       "      <td>0</td>\n",
       "      <td>0</td>\n",
       "      <td>0</td>\n",
       "      <td>0</td>\n",
       "      <td>0</td>\n",
       "      <td>0</td>\n",
       "      <td>...</td>\n",
       "      <td>0</td>\n",
       "      <td>0</td>\n",
       "      <td>0</td>\n",
       "      <td>0</td>\n",
       "      <td>0</td>\n",
       "      <td>0</td>\n",
       "      <td>0</td>\n",
       "      <td>0</td>\n",
       "      <td>0</td>\n",
       "      <td>0</td>\n",
       "    </tr>\n",
       "    <tr>\n",
       "      <th>4</th>\n",
       "      <td>0</td>\n",
       "      <td>0</td>\n",
       "      <td>0</td>\n",
       "      <td>0</td>\n",
       "      <td>0</td>\n",
       "      <td>0</td>\n",
       "      <td>0</td>\n",
       "      <td>0</td>\n",
       "      <td>0</td>\n",
       "      <td>0</td>\n",
       "      <td>...</td>\n",
       "      <td>0</td>\n",
       "      <td>0</td>\n",
       "      <td>0</td>\n",
       "      <td>0</td>\n",
       "      <td>0</td>\n",
       "      <td>0</td>\n",
       "      <td>0</td>\n",
       "      <td>0</td>\n",
       "      <td>0</td>\n",
       "      <td>0</td>\n",
       "    </tr>\n",
       "  </tbody>\n",
       "</table>\n",
       "<p>5 rows × 785 columns</p>\n",
       "</div>"
      ],
      "text/plain": [
       "   label  pixel0  pixel1  pixel2  pixel3  pixel4  pixel5  pixel6  pixel7  \\\n",
       "0      1       0       0       0       0       0       0       0       0   \n",
       "1      0       0       0       0       0       0       0       0       0   \n",
       "2      1       0       0       0       0       0       0       0       0   \n",
       "3      4       0       0       0       0       0       0       0       0   \n",
       "4      0       0       0       0       0       0       0       0       0   \n",
       "\n",
       "   pixel8  ...  pixel774  pixel775  pixel776  pixel777  pixel778  pixel779  \\\n",
       "0       0  ...         0         0         0         0         0         0   \n",
       "1       0  ...         0         0         0         0         0         0   \n",
       "2       0  ...         0         0         0         0         0         0   \n",
       "3       0  ...         0         0         0         0         0         0   \n",
       "4       0  ...         0         0         0         0         0         0   \n",
       "\n",
       "   pixel780  pixel781  pixel782  pixel783  \n",
       "0         0         0         0         0  \n",
       "1         0         0         0         0  \n",
       "2         0         0         0         0  \n",
       "3         0         0         0         0  \n",
       "4         0         0         0         0  \n",
       "\n",
       "[5 rows x 785 columns]"
      ]
     },
     "execution_count": 2,
     "metadata": {},
     "output_type": "execute_result"
    }
   ],
   "source": [
    "df=pd.read_csv(\"train.csv\")\n",
    "df.head()"
   ]
  },
  {
   "cell_type": "code",
   "execution_count": 3,
   "id": "ebb05573",
   "metadata": {
    "execution": {
     "iopub.execute_input": "2023-12-04T21:56:06.673469Z",
     "iopub.status.busy": "2023-12-04T21:56:06.673191Z",
     "iopub.status.idle": "2023-12-04T21:56:06.677397Z",
     "shell.execute_reply": "2023-12-04T21:56:06.676526Z"
    },
    "papermill": {
     "duration": 0.025836,
     "end_time": "2023-12-04T21:56:06.679331",
     "exception": false,
     "start_time": "2023-12-04T21:56:06.653495",
     "status": "completed"
    },
    "tags": []
   },
   "outputs": [
    {
     "name": "stdout",
     "output_type": "stream",
     "text": [
      "<class 'pandas.core.frame.DataFrame'>\n",
      "RangeIndex: 42000 entries, 0 to 41999\n",
      "Columns: 784 entries, pixel0 to pixel783\n",
      "dtypes: int64(784)\n",
      "memory usage: 251.2 MB\n"
     ]
    }
   ],
   "source": [
    "y=df[\"label\"]\n",
    "x=df.drop(\"label\",axis=1)\n",
    "x.info()"
   ]
  },
  {
   "cell_type": "markdown",
   "id": "57b5659b",
   "metadata": {
    "papermill": {
     "duration": 0.016897,
     "end_time": "2023-12-04T21:56:06.994873",
     "exception": false,
     "start_time": "2023-12-04T21:56:06.977976",
     "status": "completed"
    },
    "tags": []
   },
   "source": [
    " # 2.0 Exploratory Data Analysis"
   ]
  },
  {
   "cell_type": "code",
   "execution_count": 4,
   "id": "e44713a2",
   "metadata": {
    "execution": {
     "iopub.execute_input": "2023-12-04T21:56:07.071746Z",
     "iopub.status.busy": "2023-12-04T21:56:07.071054Z",
     "iopub.status.idle": "2023-12-04T21:56:07.324928Z",
     "shell.execute_reply": "2023-12-04T21:56:07.324026Z"
    },
    "papermill": {
     "duration": 0.314914,
     "end_time": "2023-12-04T21:56:07.327053",
     "exception": false,
     "start_time": "2023-12-04T21:56:07.012139",
     "status": "completed"
    },
    "tags": []
   },
   "outputs": [
    {
     "name": "stderr",
     "output_type": "stream",
     "text": [
      "/Users/kennethyap/anaconda3/envs/DataScience/lib/python3.9/site-packages/seaborn/_oldcore.py:1498: FutureWarning: is_categorical_dtype is deprecated and will be removed in a future version. Use isinstance(dtype, CategoricalDtype) instead\n",
      "  if pd.api.types.is_categorical_dtype(vector):\n",
      "/Users/kennethyap/anaconda3/envs/DataScience/lib/python3.9/site-packages/seaborn/_oldcore.py:1498: FutureWarning: is_categorical_dtype is deprecated and will be removed in a future version. Use isinstance(dtype, CategoricalDtype) instead\n",
      "  if pd.api.types.is_categorical_dtype(vector):\n",
      "/Users/kennethyap/anaconda3/envs/DataScience/lib/python3.9/site-packages/seaborn/_oldcore.py:1498: FutureWarning: is_categorical_dtype is deprecated and will be removed in a future version. Use isinstance(dtype, CategoricalDtype) instead\n",
      "  if pd.api.types.is_categorical_dtype(vector):\n"
     ]
    },
    {
     "data": {
      "text/plain": [
       "<Axes: xlabel='label', ylabel='count'>"
      ]
     },
     "execution_count": 4,
     "metadata": {},
     "output_type": "execute_result"
    },
    {
     "data": {
      "image/png": "[encoded data removed]",
      "text/plain": [
       "<Figure size 640x480 with 1 Axes>"
      ]
     },
     "metadata": {},
     "output_type": "display_data"
    }
   ],
   "source": [
    "sns.countplot(x=y)\n"
   ]
  },
  {
   "cell_type": "code",
   "execution_count": 5,
   "id": "bd1eb3f4",
   "metadata": {
    "execution": {
     "iopub.execute_input": "2023-12-04T21:56:07.365168Z",
     "iopub.status.busy": "2023-12-04T21:56:07.364802Z",
     "iopub.status.idle": "2023-12-04T21:56:07.373605Z",
     "shell.execute_reply": "2023-12-04T21:56:07.372756Z"
    },
    "papermill": {
     "duration": 0.03056,
     "end_time": "2023-12-04T21:56:07.375877",
     "exception": false,
     "start_time": "2023-12-04T21:56:07.345317",
     "status": "completed"
    },
    "tags": []
   },
   "outputs": [
    {
     "data": {
      "text/plain": [
       "label\n",
       "1    4684\n",
       "7    4401\n",
       "3    4351\n",
       "9    4188\n",
       "2    4177\n",
       "6    4137\n",
       "0    4132\n",
       "4    4072\n",
       "8    4063\n",
       "5    3795\n",
       "Name: count, dtype: int64"
      ]
     },
     "execution_count": 5,
     "metadata": {},
     "output_type": "execute_result"
    }
   ],
   "source": [
    "y.value_counts()"
   ]
  },
  {
   "cell_type": "code",
   "execution_count": 6,
   "id": "a3e169bf",
   "metadata": {
    "execution": {
     "iopub.execute_input": "2023-12-04T21:56:07.413984Z",
     "iopub.status.busy": "2023-12-04T21:56:07.413689Z",
     "iopub.status.idle": "2023-12-04T21:56:07.620950Z",
     "shell.execute_reply": "2023-12-04T21:56:07.619883Z"
    },
    "papermill": {
     "duration": 0.228328,
     "end_time": "2023-12-04T21:56:07.623066",
     "exception": false,
     "start_time": "2023-12-04T21:56:07.394738",
     "status": "completed"
    },
    "tags": []
   },
   "outputs": [
    {
     "data": {
      "text/plain": [
       "<matplotlib.image.AxesImage at 0x2869c2490>"
      ]
     },
     "execution_count": 6,
     "metadata": {},
     "output_type": "execute_result"
    },
    {
     "data": {
      "image/png": "[encoded data removed]",
      "text/plain": [
       "<Figure size 640x480 with 1 Axes>"
      ]
     },
     "metadata": {},
     "output_type": "display_data"
    }
   ],
   "source": [
    "# Visualize data- reshaped to 28 x 28 pixel data format\n",
    "plt.imshow(x.iloc[100].to_numpy().reshape(28,28),cmap='binary')"
   ]
  },
  {
   "cell_type": "code",
   "execution_count": 7,
   "id": "1a2d160f",
   "metadata": {
    "execution": {
     "iopub.execute_input": "2023-12-04T21:56:07.662350Z",
     "iopub.status.busy": "2023-12-04T21:56:07.662051Z",
     "iopub.status.idle": "2023-12-04T21:56:07.666469Z",
     "shell.execute_reply": "2023-12-04T21:56:07.665569Z"
    },
    "papermill": {
     "duration": 0.025281,
     "end_time": "2023-12-04T21:56:07.668457",
     "exception": false,
     "start_time": "2023-12-04T21:56:07.643176",
     "status": "completed"
    },
    "tags": []
   },
   "outputs": [
    {
     "data": {
      "text/plain": [
       "<matplotlib.image.AxesImage at 0x286939d60>"
      ]
     },
     "execution_count": 7,
     "metadata": {},
     "output_type": "execute_result"
    },
    {
     "data": {
      "image/png": "[encoded data removed]",
      "text/plain": [
       "<Figure size 640x480 with 1 Axes>"
      ]
     },
     "metadata": {},
     "output_type": "display_data"
    }
   ],
   "source": [
    "# View random image\n",
    "some_digit=x.to_numpy()[169]\n",
    "some_digit=some_digit.reshape(28,28)\n",
    "plt.imshow(some_digit,cmap=\"binary\")"
   ]
  },
  {
   "cell_type": "code",
   "execution_count": 8,
   "id": "8c31f648",
   "metadata": {
    "execution": {
     "iopub.execute_input": "2023-12-04T21:56:08.016580Z",
     "iopub.status.busy": "2023-12-04T21:56:08.016307Z",
     "iopub.status.idle": "2023-12-04T21:56:08.022225Z",
     "shell.execute_reply": "2023-12-04T21:56:08.021322Z"
    },
    "papermill": {
     "duration": 0.027746,
     "end_time": "2023-12-04T21:56:08.024168",
     "exception": false,
     "start_time": "2023-12-04T21:56:07.996422",
     "status": "completed"
    },
    "tags": []
   },
   "outputs": [
    {
     "data": {
      "text/plain": [
       "2"
      ]
     },
     "execution_count": 8,
     "metadata": {},
     "output_type": "execute_result"
    }
   ],
   "source": [
    "# Check corresponding label is correct\n",
    "y[169]"
   ]
  },
  {
   "cell_type": "code",
   "execution_count": 9,
   "id": "b9a1b6c1",
   "metadata": {
    "execution": {
     "iopub.execute_input": "2023-12-04T21:56:08.138917Z",
     "iopub.status.busy": "2023-12-04T21:56:08.138594Z",
     "iopub.status.idle": "2023-12-04T21:56:08.409741Z",
     "shell.execute_reply": "2023-12-04T21:56:08.408799Z"
    },
    "papermill": {
     "duration": 0.293575,
     "end_time": "2023-12-04T21:56:08.411761",
     "exception": false,
     "start_time": "2023-12-04T21:56:08.118186",
     "status": "completed"
    },
    "tags": []
   },
   "outputs": [
    {
     "data": {
      "text/plain": [
       "<matplotlib.image.AxesImage at 0x287044df0>"
      ]
     },
     "execution_count": 9,
     "metadata": {},
     "output_type": "execute_result"
    },
    {
     "data": {
      "image/png": "[encoded data removed]",
      "text/plain": [
       "<Figure size 640x480 with 1 Axes>"
      ]
     },
     "metadata": {},
     "output_type": "display_data"
    }
   ],
   "source": [
    "# Another better way to plot the images. Using .values will convert the dataseries into a numpy array\n",
    "plt.imshow(x.iloc[169].values.reshape(28,28))"
   ]
  },
  {
   "cell_type": "code",
   "execution_count": 10,
   "id": "bae017da",
   "metadata": {
    "execution": {
     "iopub.execute_input": "2023-12-04T21:56:08.453119Z",
     "iopub.status.busy": "2023-12-04T21:56:08.452780Z",
     "iopub.status.idle": "2023-12-04T21:56:08.470321Z",
     "shell.execute_reply": "2023-12-04T21:56:08.469288Z"
    },
    "papermill": {
     "duration": 0.040944,
     "end_time": "2023-12-04T21:56:08.472485",
     "exception": false,
     "start_time": "2023-12-04T21:56:08.431541",
     "status": "completed"
    },
    "tags": []
   },
   "outputs": [
    {
     "data": {
      "text/plain": [
       "pixel0      0\n",
       "pixel1      0\n",
       "pixel2      0\n",
       "pixel3      0\n",
       "pixel4      0\n",
       "           ..\n",
       "pixel779    0\n",
       "pixel780    0\n",
       "pixel781    0\n",
       "pixel782    0\n",
       "pixel783    0\n",
       "Length: 784, dtype: int64"
      ]
     },
     "execution_count": 10,
     "metadata": {},
     "output_type": "execute_result"
    },
    {
     "data": {
      "text/plain": [
       "count       784\n",
       "unique        1\n",
       "top       False\n",
       "freq        784\n",
       "dtype: object"
      ]
     },
     "execution_count": 10,
     "metadata": {},
     "output_type": "execute_result"
    }
   ],
   "source": [
    "# Check if any null values are in the list\n",
    "x.isnull().sum()\n",
    "x.isnull().any().describe()"
   ]
  },
  {
   "cell_type": "markdown",
   "id": "99ba7c79",
   "metadata": {
    "papermill": {
     "duration": 0.019703,
     "end_time": "2023-12-04T21:56:08.512687",
     "exception": false,
     "start_time": "2023-12-04T21:56:08.492984",
     "status": "completed"
    },
    "tags": []
   },
   "source": [
    " ## 2.1 **Reshaping the Data**"
   ]
  },
  {
   "cell_type": "code",
   "execution_count": 11,
   "id": "856bda03",
   "metadata": {
    "execution": {
     "iopub.execute_input": "2023-12-04T21:56:08.552681Z",
     "iopub.status.busy": "2023-12-04T21:56:08.552380Z",
     "iopub.status.idle": "2023-12-04T21:56:08.557357Z",
     "shell.execute_reply": "2023-12-04T21:56:08.556400Z"
    },
    "papermill": {
     "duration": 0.027359,
     "end_time": "2023-12-04T21:56:08.559373",
     "exception": false,
     "start_time": "2023-12-04T21:56:08.532014",
     "status": "completed"
    },
    "tags": []
   },
   "outputs": [
    {
     "data": {
      "text/plain": [
       "(42000, 28, 28, 1)"
      ]
     },
     "execution_count": 11,
     "metadata": {},
     "output_type": "execute_result"
    }
   ],
   "source": [
    "# An image is 28x28 size. 28*28=784; 1 represent the channels in the image.\n",
    "x=x.values.reshape(-1,28,28,1)\n",
    "x.shape"
   ]
  },
  {
   "cell_type": "markdown",
   "id": "5d3678f3",
   "metadata": {
    "papermill": {
     "duration": 0.020796,
     "end_time": "2023-12-04T21:56:08.647591",
     "exception": false,
     "start_time": "2023-12-04T21:56:08.626795",
     "status": "completed"
    },
    "tags": []
   },
   "source": [
    "## 2.2 Normalization"
   ]
  },
  {
   "cell_type": "code",
   "execution_count": 12,
   "id": "441858d6",
   "metadata": {
    "execution": {
     "iopub.execute_input": "2023-12-04T21:56:08.688529Z",
     "iopub.status.busy": "2023-12-04T21:56:08.688265Z",
     "iopub.status.idle": "2023-12-04T21:56:08.759749Z",
     "shell.execute_reply": "2023-12-04T21:56:08.758904Z"
    },
    "papermill": {
     "duration": 0.095042,
     "end_time": "2023-12-04T21:56:08.762336",
     "exception": false,
     "start_time": "2023-12-04T21:56:08.667294",
     "status": "completed"
    },
    "tags": []
   },
   "outputs": [
    {
     "data": {
      "text/plain": [
       "(42000, 10)"
      ]
     },
     "execution_count": 12,
     "metadata": {},
     "output_type": "execute_result"
    }
   ],
   "source": [
    "# pixel range is from 0 to 255,hence the number 255- this will scale images to [0,1]\n",
    "x=x.astype('float32')/255\n",
    "# converting the labels into Categorical labels - Helps with Softmax Classification\n",
    "y=tf.keras.utils.to_categorical(y,num_classes=10)\n",
    "y.shape"
   ]
  },
  {
   "cell_type": "markdown",
   "id": "4fbdb5d5",
   "metadata": {
    "papermill": {
     "duration": 0.019421,
     "end_time": "2023-12-04T21:56:21.453065",
     "exception": false,
     "start_time": "2023-12-04T21:56:21.433644",
     "status": "completed"
    },
    "tags": []
   },
   "source": [
    " ## 2.3 Data Setup for Model"
   ]
  },
  {
   "cell_type": "code",
   "execution_count": 13,
   "id": "bfcda8bf",
   "metadata": {
    "execution": {
     "iopub.execute_input": "2023-12-04T21:56:21.494483Z",
     "iopub.status.busy": "2023-12-04T21:56:21.493804Z",
     "iopub.status.idle": "2023-12-04T21:56:21.723243Z",
     "shell.execute_reply": "2023-12-04T21:56:21.722276Z"
    },
    "papermill": {
     "duration": 0.252909,
     "end_time": "2023-12-04T21:56:21.725693",
     "exception": false,
     "start_time": "2023-12-04T21:56:21.472784",
     "status": "completed"
    },
    "tags": []
   },
   "outputs": [],
   "source": [
    "from sklearn.model_selection import train_test_split"
   ]
  },
  {
   "cell_type": "code",
   "execution_count": 14,
   "id": "b803ef6a",
   "metadata": {
    "execution": {
     "iopub.execute_input": "2023-12-04T21:56:21.775092Z",
     "iopub.status.busy": "2023-12-04T21:56:21.774738Z",
     "iopub.status.idle": "2023-12-04T21:56:22.078009Z",
     "shell.execute_reply": "2023-12-04T21:56:22.077188Z"
    },
    "papermill": {
     "duration": 0.327111,
     "end_time": "2023-12-04T21:56:22.080390",
     "exception": false,
     "start_time": "2023-12-04T21:56:21.753279",
     "status": "completed"
    },
    "tags": []
   },
   "outputs": [
    {
     "name": "stdout",
     "output_type": "stream",
     "text": [
      "The shape of train data (33600, 28, 28, 1) and test data (8400, 28, 28, 1)\n"
     ]
    }
   ],
   "source": [
    "#Additional Validation split is not required as validtion split is mentioned during the model.fit in neural networks\n",
    "x_train, x_test, y_train, y_test = train_test_split(x, y, test_size=0.2, random_state=42)\n",
    "print(f'The shape of train data {x_train.shape} and test data {x_test.shape}')"
   ]
  },
  {
   "cell_type": "markdown",
   "id": "791f3702",
   "metadata": {
    "papermill": {
     "duration": 0.019456,
     "end_time": "2023-12-04T21:56:22.213194",
     "exception": false,
     "start_time": "2023-12-04T21:56:22.193738",
     "status": "completed"
    },
    "tags": []
   },
   "source": [
    "# 3.0 Set up Neural Network"
   ]
  },
  {
   "cell_type": "code",
   "execution_count": 15,
   "id": "ef7d4e21",
   "metadata": {
    "execution": {
     "iopub.execute_input": "2023-12-04T21:56:22.253975Z",
     "iopub.status.busy": "2023-12-04T21:56:22.253249Z",
     "iopub.status.idle": "2023-12-04T21:56:22.259647Z",
     "shell.execute_reply": "2023-12-04T21:56:22.258984Z"
    },
    "papermill": {
     "duration": 0.028912,
     "end_time": "2023-12-04T21:56:22.261490",
     "exception": false,
     "start_time": "2023-12-04T21:56:22.232578",
     "status": "completed"
    },
    "tags": []
   },
   "outputs": [],
   "source": [
    "# Import libraries needed\n",
    "import tensorflow as tf\n",
    "from tensorflow.keras.models import Sequential\n",
    "from tensorflow.keras.layers import Dense,BatchNormalization,Conv2D,MaxPooling2D,Dropout,Input\n",
    "from tensorflow.keras.layers import Flatten\n",
    "from tensorflow.keras.layers import Dropout\n",
    "from tensorflow.keras import regularizers"
   ]
  },
  {
   "cell_type": "code",
   "execution_count": 16,
   "id": "2b5e8eaf",
   "metadata": {
    "execution": {
     "iopub.execute_input": "2023-12-04T21:56:26.409147Z",
     "iopub.status.busy": "2023-12-04T21:56:26.408808Z",
     "iopub.status.idle": "2023-12-04T21:56:26.554151Z",
     "shell.execute_reply": "2023-12-04T21:56:26.553332Z"
    },
    "papermill": {
     "duration": 0.168092,
     "end_time": "2023-12-04T21:56:26.556419",
     "exception": false,
     "start_time": "2023-12-04T21:56:26.388327",
     "status": "completed"
    },
    "tags": []
   },
   "outputs": [],
   "source": [
    "# a sequential model is a linear stack of layers where you can simply add one layer at a time.\n",
    "model=Sequential()\n",
    "# it takes the input data, which is assumed to be a 2D array with dimensions (28, 28), representing an image with 28x28 pixels. The flatten layer converts this 2D array into a 1D array of size 784 (28 * 28).\n",
    "model.add(Flatten(input_shape=(28,28)))\n",
    "# applied to normalize the activations of the previous layer at each batch during training. It can accelerate training and improve the stability of the neural network.\n",
    "model.add(BatchNormalization())\n",
    "# adds a fully connected (dense) layer with 784 neurons and a rectified linear unit (ReLU) activation function. The ReLU activation introduces non-linearity to the model.\n",
    "model.add(Dense(784,activation=\"relu\"))\n",
    "# Normalize previous layer again\n",
    "model.add(BatchNormalization())\n",
    "# applied with a dropout rate of 0.5. Dropout helps prevent overfitting by randomly setting a fraction of input units to 0 at each update during training.\n",
    "model.add(Dropout(0.5))\n",
    "# fully connected layer with 128 neurons and ReLU activation is added.\n",
    "model.add(Dense(128,activation=\"relu\"))\n",
    "# normalize previous layer again\n",
    "model.add(BatchNormalization())\n",
    "# final dense layer has 10 neurons (assuming it's used for a classification task with 10 classes) and a softmax activation function. Softmax is often used in the output layer for multi-class classification problems to convert the network's raw output into probability scores for each class.\n",
    "model.add(Dense(10,activation=\"softmax\"))\n",
    "#model.add(Dense(784,activation=\"relu\",kernel_regularizer='l2'))"
   ]
  },
  {
   "cell_type": "code",
   "execution_count": 17,
   "id": "892493f1",
   "metadata": {
    "execution": {
     "iopub.execute_input": "2023-12-04T21:56:26.597009Z",
     "iopub.status.busy": "2023-12-04T21:56:26.596700Z",
     "iopub.status.idle": "2023-12-04T21:56:26.611949Z",
     "shell.execute_reply": "2023-12-04T21:56:26.611106Z"
    },
    "papermill": {
     "duration": 0.037285,
     "end_time": "2023-12-04T21:56:26.613763",
     "exception": false,
     "start_time": "2023-12-04T21:56:26.576478",
     "status": "completed"
    },
    "tags": []
   },
   "outputs": [
    {
     "name": "stdout",
     "output_type": "stream",
     "text": [
      "Model: \"sequential\"\n",
      "_________________________________________________________________\n",
      " Layer (type)                Output Shape              Param #   \n",
      "=================================================================\n",
      " flatten (Flatten)           (None, 784)               0         \n",
      "                                                                 \n",
      " batch_normalization (Batch  (None, 784)               3136      \n",
      " Normalization)                                                  \n",
      "                                                                 \n",
      " dense (Dense)               (None, 784)               615440    \n",
      "                                                                 \n",
      " batch_normalization_1 (Bat  (None, 784)               3136      \n",
      " chNormalization)                                                \n",
      "                                                                 \n",
      " dropout (Dropout)           (None, 784)               0         \n",
      "                                                                 \n",
      " dense_1 (Dense)             (None, 128)               100480    \n",
      "                                                                 \n",
      " batch_normalization_2 (Bat  (None, 128)               512       \n",
      " chNormalization)                                                \n",
      "                                                                 \n",
      " dense_2 (Dense)             (None, 10)                1290      \n",
      "                                                                 \n",
      "=================================================================\n",
      "Total params: 723994 (2.76 MB)\n",
      "Trainable params: 720602 (2.75 MB)\n",
      "Non-trainable params: 3392 (13.25 KB)\n",
      "_________________________________________________________________\n",
      "None\n"
     ]
    }
   ],
   "source": [
    "model.compile(loss=\"categorical_crossentropy\",optimizer=\"adam\",metrics=[\"accuracy\"])\n",
    "print(model.summary())"
   ]
  },
  {
   "cell_type": "code",
   "execution_count": 18,
   "id": "665a3283",
   "metadata": {
    "execution": {
     "iopub.execute_input": "2023-12-04T21:56:26.740140Z",
     "iopub.status.busy": "2023-12-04T21:56:26.739832Z",
     "iopub.status.idle": "2023-12-04T21:56:47.199244Z",
     "shell.execute_reply": "2023-12-04T21:56:47.198077Z"
    },
    "papermill": {
     "duration": 20.484295,
     "end_time": "2023-12-04T21:56:47.201496",
     "exception": false,
     "start_time": "2023-12-04T21:56:26.717201",
     "status": "completed"
    },
    "tags": []
   },
   "outputs": [
    {
     "name": "stdout",
     "output_type": "stream",
     "text": [
      "Epoch 1/10\n",
      "336/336 - 2s - loss: 0.2944 - accuracy: 0.9100 - val_loss: 0.1374 - val_accuracy: 0.9568 - 2s/epoch - 5ms/step\n",
      "Epoch 2/10\n",
      "336/336 - 2s - loss: 0.1405 - accuracy: 0.9575 - val_loss: 0.1079 - val_accuracy: 0.9658 - 2s/epoch - 4ms/step\n",
      "Epoch 3/10\n",
      "336/336 - 1s - loss: 0.1027 - accuracy: 0.9679 - val_loss: 0.0959 - val_accuracy: 0.9699 - 1s/epoch - 4ms/step\n",
      "Epoch 4/10\n",
      "336/336 - 1s - loss: 0.0852 - accuracy: 0.9732 - val_loss: 0.0915 - val_accuracy: 0.9705 - 1s/epoch - 4ms/step\n",
      "Epoch 5/10\n",
      "336/336 - 1s - loss: 0.0725 - accuracy: 0.9767 - val_loss: 0.0815 - val_accuracy: 0.9748 - 1s/epoch - 4ms/step\n",
      "Epoch 6/10\n",
      "336/336 - 1s - loss: 0.0622 - accuracy: 0.9793 - val_loss: 0.0842 - val_accuracy: 0.9746 - 1s/epoch - 4ms/step\n",
      "Epoch 7/10\n",
      "336/336 - 1s - loss: 0.0529 - accuracy: 0.9828 - val_loss: 0.0785 - val_accuracy: 0.9757 - 1s/epoch - 4ms/step\n",
      "Epoch 8/10\n",
      "336/336 - 2s - loss: 0.0493 - accuracy: 0.9834 - val_loss: 0.0793 - val_accuracy: 0.9748 - 2s/epoch - 5ms/step\n",
      "Epoch 9/10\n",
      "336/336 - 2s - loss: 0.0439 - accuracy: 0.9850 - val_loss: 0.0759 - val_accuracy: 0.9774 - 2s/epoch - 4ms/step\n",
      "Epoch 10/10\n",
      "336/336 - 2s - loss: 0.0452 - accuracy: 0.9847 - val_loss: 0.0835 - val_accuracy: 0.9758 - 2s/epoch - 5ms/step\n"
     ]
    }
   ],
   "source": [
    "# train model\n",
    "history=model.fit(x_train,y_train,epochs=10,batch_size=100,verbose=2,validation_data=(x_test,y_test),validation_split=0.1)\n"
   ]
  },
  {
   "cell_type": "markdown",
   "id": "ef88490d",
   "metadata": {
    "papermill": {
     "duration": 0.024307,
     "end_time": "2023-12-04T21:56:47.250340",
     "exception": false,
     "start_time": "2023-12-04T21:56:47.226033",
     "status": "completed"
    },
    "tags": []
   },
   "source": [
    " Model Evaluation"
   ]
  },
  {
   "cell_type": "code",
   "execution_count": 19,
   "id": "3fce8815",
   "metadata": {
    "execution": {
     "iopub.execute_input": "2023-12-04T21:56:47.357332Z",
     "iopub.status.busy": "2023-12-04T21:56:47.357063Z",
     "iopub.status.idle": "2023-12-04T21:56:48.169275Z",
     "shell.execute_reply": "2023-12-04T21:56:48.168211Z"
    },
    "papermill": {
     "duration": 0.839225,
     "end_time": "2023-12-04T21:56:48.171645",
     "exception": false,
     "start_time": "2023-12-04T21:56:47.332420",
     "status": "completed"
    },
    "tags": []
   },
   "outputs": [
    {
     "name": "stdout",
     "output_type": "stream",
     "text": [
      "263/263 [==============================] - 0s 718us/step\n"
     ]
    },
    {
     "data": {
      "text/plain": [
       "(8400, 10)"
      ]
     },
     "execution_count": 19,
     "metadata": {},
     "output_type": "execute_result"
    }
   ],
   "source": [
    "# Conduct fit\n",
    "predictions=model.predict(x_test)\n",
    "predictions.shape"
   ]
  },
  {
   "cell_type": "code",
   "execution_count": 20,
   "id": "8b437b41",
   "metadata": {
    "execution": {
     "iopub.execute_input": "2023-12-04T21:56:48.222417Z",
     "iopub.status.busy": "2023-12-04T21:56:48.222081Z",
     "iopub.status.idle": "2023-12-04T21:56:48.228139Z",
     "shell.execute_reply": "2023-12-04T21:56:48.227232Z"
    },
    "papermill": {
     "duration": 0.033472,
     "end_time": "2023-12-04T21:56:48.230256",
     "exception": false,
     "start_time": "2023-12-04T21:56:48.196784",
     "status": "completed"
    },
    "tags": []
   },
   "outputs": [
    {
     "data": {
      "text/plain": [
       "(8400, 10)"
      ]
     },
     "execution_count": 20,
     "metadata": {},
     "output_type": "execute_result"
    }
   ],
   "source": [
    "# Compare against input shape\n",
    "y_test.shape"
   ]
  },
  {
   "cell_type": "code",
   "execution_count": 21,
   "id": "c6bcbb74",
   "metadata": {
    "execution": {
     "iopub.execute_input": "2023-12-04T21:56:48.404069Z",
     "iopub.status.busy": "2023-12-04T21:56:48.403777Z",
     "iopub.status.idle": "2023-12-04T21:56:49.354332Z",
     "shell.execute_reply": "2023-12-04T21:56:49.353367Z"
    },
    "papermill": {
     "duration": 0.978731,
     "end_time": "2023-12-04T21:56:49.356283",
     "exception": false,
     "start_time": "2023-12-04T21:56:48.377552",
     "status": "completed"
    },
    "tags": []
   },
   "outputs": [
    {
     "name": "stdout",
     "output_type": "stream",
     "text": [
      "263/263 [==============================] - 0s 771us/step - loss: 0.0835 - accuracy: 0.9758\n"
     ]
    },
    {
     "data": {
      "text/plain": [
       "[0.08346206694841385, 0.9758333563804626]"
      ]
     },
     "execution_count": 21,
     "metadata": {},
     "output_type": "execute_result"
    }
   ],
   "source": [
    "# model.summary()\n",
    "model.evaluate(x_test,y_test)"
   ]
  },
  {
   "cell_type": "code",
   "execution_count": 22,
   "id": "551634d8",
   "metadata": {
    "execution": {
     "iopub.execute_input": "2023-12-04T21:56:49.410329Z",
     "iopub.status.busy": "2023-12-04T21:56:49.409575Z",
     "iopub.status.idle": "2023-12-04T21:56:50.074494Z",
     "shell.execute_reply": "2023-12-04T21:56:50.073447Z"
    },
    "papermill": {
     "duration": 0.69452,
     "end_time": "2023-12-04T21:56:50.076945",
     "exception": false,
     "start_time": "2023-12-04T21:56:49.382425",
     "status": "completed"
    },
    "tags": []
   },
   "outputs": [
    {
     "data": {
      "text/plain": [
       "[0.08346206694841385, 0.9758333563804626]"
      ]
     },
     "execution_count": 22,
     "metadata": {},
     "output_type": "execute_result"
    }
   ],
   "source": [
    "#the output of model.evaluate gives out a tuple: loss, metric specified in model.compile\n",
    "scores = model.evaluate(x_test,y_test, verbose=0)\n",
    "scores"
   ]
  },
  {
   "cell_type": "code",
   "execution_count": 23,
   "id": "f7106d3e",
   "metadata": {
    "execution": {
     "iopub.execute_input": "2023-12-04T21:56:50.192394Z",
     "iopub.status.busy": "2023-12-04T21:56:50.192109Z",
     "iopub.status.idle": "2023-12-04T21:56:50.533430Z",
     "shell.execute_reply": "2023-12-04T21:56:50.532457Z"
    },
    "papermill": {
     "duration": 0.370003,
     "end_time": "2023-12-04T21:56:50.535500",
     "exception": false,
     "start_time": "2023-12-04T21:56:50.165497",
     "status": "completed"
    },
    "tags": []
   },
   "outputs": [
    {
     "data": {
      "text/plain": [
       "<Axes: >"
      ]
     },
     "execution_count": 23,
     "metadata": {},
     "output_type": "execute_result"
    },
    {
     "data": {
      "image/png": "[encoded data removed]",
      "text/plain": [
       "<Figure size 800x500 with 1 Axes>"
      ]
     },
     "metadata": {},
     "output_type": "display_data"
    }
   ],
   "source": [
    "# Plot figure to visualize\n",
    "pd.DataFrame(history.history).plot(figsize=(8, 5))"
   ]
  },
  {
   "cell_type": "markdown",
   "id": "d268ff32",
   "metadata": {
    "papermill": {
     "duration": 0.026521,
     "end_time": "2023-12-04T21:56:50.588987",
     "exception": false,
     "start_time": "2023-12-04T21:56:50.562466",
     "status": "completed"
    },
    "tags": []
   },
   "source": [
    "# 4.0 Building a Convolutional Neural Network"
   ]
  },
  {
   "cell_type": "code",
   "execution_count": 24,
   "id": "ce559483",
   "metadata": {
    "execution": {
     "iopub.execute_input": "2023-12-04T21:56:50.644458Z",
     "iopub.status.busy": "2023-12-04T21:56:50.644108Z",
     "iopub.status.idle": "2023-12-04T21:56:50.648916Z",
     "shell.execute_reply": "2023-12-04T21:56:50.647988Z"
    },
    "papermill": {
     "duration": 0.035329,
     "end_time": "2023-12-04T21:56:50.651019",
     "exception": false,
     "start_time": "2023-12-04T21:56:50.615690",
     "status": "completed"
    },
    "tags": []
   },
   "outputs": [],
   "source": [
    "from tensorflow.keras.models import Sequential\n",
    "from tensorflow.keras.layers import Dense,BatchNormalization,Conv2D,MaxPooling2D,Dropout,Input\n",
    "from tensorflow.keras.layers import Flatten"
   ]
  },
  {
   "cell_type": "code",
   "execution_count": 25,
   "id": "cbef5f88",
   "metadata": {
    "execution": {
     "iopub.execute_input": "2023-12-04T21:56:50.707741Z",
     "iopub.status.busy": "2023-12-04T21:56:50.707433Z",
     "iopub.status.idle": "2023-12-04T21:56:50.714401Z",
     "shell.execute_reply": "2023-12-04T21:56:50.713670Z"
    },
    "papermill": {
     "duration": 0.03807,
     "end_time": "2023-12-04T21:56:50.716375",
     "exception": false,
     "start_time": "2023-12-04T21:56:50.678305",
     "status": "completed"
    },
    "tags": []
   },
   "outputs": [],
   "source": [
    "model2=Sequential()"
   ]
  },
  {
   "cell_type": "code",
   "execution_count": 26,
   "id": "01ea1a6c",
   "metadata": {
    "execution": {
     "iopub.execute_input": "2023-12-04T21:56:50.772583Z",
     "iopub.status.busy": "2023-12-04T21:56:50.771979Z",
     "iopub.status.idle": "2023-12-04T21:56:50.877549Z",
     "shell.execute_reply": "2023-12-04T21:56:50.876708Z"
    },
    "papermill": {
     "duration": 0.136001,
     "end_time": "2023-12-04T21:56:50.879971",
     "exception": false,
     "start_time": "2023-12-04T21:56:50.743970",
     "status": "completed"
    },
    "tags": []
   },
   "outputs": [],
   "source": [
    "#Simple model without learning rate scheduler\n",
    "model2.add(Input(shape=(28, 28, 1)))\n",
    "\n",
    "model2.add(Conv2D(32, kernel_size=(3, 3), activation='relu'))\n",
    "model2.add(BatchNormalization())\n",
    "model2.add(MaxPooling2D(pool_size=(2, 2)))\n",
    "model2.add(Dropout(0.25))\n",
    "\n",
    "model2.add(Conv2D(64, kernel_size=(3, 3), activation='relu'))\n",
    "model2.add(BatchNormalization())\n",
    "model2.add(MaxPooling2D(pool_size=(2, 2)))\n",
    "model2.add(Dropout(0.25))\n",
    "\n",
    "model2.add(Flatten())\n",
    "\n",
    "model2.add(Dense(256, activation='relu'))\n",
    "model2.add(BatchNormalization())\n",
    "model2.add(Dropout(0.5))\n",
    "\n",
    "model2.add(Dense(10, activation='softmax'))"
   ]
  },
  {
   "cell_type": "code",
   "execution_count": 27,
   "id": "557ebc4b",
   "metadata": {
    "execution": {
     "iopub.execute_input": "2023-12-04T21:56:51.003307Z",
     "iopub.status.busy": "2023-12-04T21:56:51.003014Z",
     "iopub.status.idle": "2023-12-04T21:56:51.013306Z",
     "shell.execute_reply": "2023-12-04T21:56:51.012611Z"
    },
    "papermill": {
     "duration": 0.040923,
     "end_time": "2023-12-04T21:56:51.015156",
     "exception": false,
     "start_time": "2023-12-04T21:56:50.974233",
     "status": "completed"
    },
    "tags": []
   },
   "outputs": [
    {
     "name": "stdout",
     "output_type": "stream",
     "text": [
      "Model: \"sequential_1\"\n",
      "_________________________________________________________________\n",
      " Layer (type)                Output Shape              Param #   \n",
      "=================================================================\n",
      " conv2d (Conv2D)             (None, 26, 26, 32)        320       \n",
      "                                                                 \n",
      " batch_normalization_3 (Bat  (None, 26, 26, 32)        128       \n",
      " chNormalization)                                                \n",
      "                                                                 \n",
      " max_pooling2d (MaxPooling2  (None, 13, 13, 32)        0         \n",
      " D)                                                              \n",
      "                                                                 \n",
      " dropout_1 (Dropout)         (None, 13, 13, 32)        0         \n",
      "                                                                 \n",
      " conv2d_1 (Conv2D)           (None, 11, 11, 64)        18496     \n",
      "                                                                 \n",
      " batch_normalization_4 (Bat  (None, 11, 11, 64)        256       \n",
      " chNormalization)                                                \n",
      "                                                                 \n",
      " max_pooling2d_1 (MaxPoolin  (None, 5, 5, 64)          0         \n",
      " g2D)                                                            \n",
      "                                                                 \n",
      " dropout_2 (Dropout)         (None, 5, 5, 64)          0         \n",
      "                                                                 \n",
      " flatten_1 (Flatten)         (None, 1600)              0         \n",
      "                                                                 \n",
      " dense_3 (Dense)             (None, 256)               409856    \n",
      "                                                                 \n",
      " batch_normalization_5 (Bat  (None, 256)               1024      \n",
      " chNormalization)                                                \n",
      "                                                                 \n",
      " dropout_3 (Dropout)         (None, 256)               0         \n",
      "                                                                 \n",
      " dense_4 (Dense)             (None, 10)                2570      \n",
      "                                                                 \n",
      "=================================================================\n",
      "Total params: 432650 (1.65 MB)\n",
      "Trainable params: 431946 (1.65 MB)\n",
      "Non-trainable params: 704 (2.75 KB)\n",
      "_________________________________________________________________\n",
      "None\n"
     ]
    }
   ],
   "source": [
    "model2.compile(loss=\"categorical_crossentropy\",optimizer=\"adam\",metrics=[\"accuracy\"])\n",
    "print(model2.summary())"
   ]
  },
  {
   "cell_type": "code",
   "execution_count": 37,
   "id": "86d5cee2",
   "metadata": {},
   "outputs": [],
   "source": [
    "# more sophisticated mdoel with learning rate scheduler\n",
    "\n",
    "from tensorflow.keras.optimizers import Adam\n",
    "from tensorflow.keras.callbacks import LearningRateScheduler\n",
    "from tensorflow.keras import backend as K\n",
    "\n",
    "# Learning rate scheduler function\n",
    "def lr_scheduler(epoch, lr):\n",
    "    return lr * 0.9 if epoch % 10 == 0 else lr\n",
    "\n",
    "model2 = Sequential()\n",
    "\n",
    "model2.add(Input(shape=(28, 28, 1)))\n",
    "\n",
    "model2.add(Conv2D(64, kernel_size=(3, 3), activation='relu', padding='same'))\n",
    "model2.add(BatchNormalization())\n",
    "model2.add(Conv2D(64, kernel_size=(3, 3), activation='relu', padding='same'))\n",
    "model2.add(BatchNormalization())\n",
    "model2.add(MaxPooling2D(pool_size=(2, 2)))\n",
    "model2.add(Dropout(0.25))\n",
    "\n",
    "model2.add(Conv2D(128, kernel_size=(3, 3), activation='relu', padding='same'))\n",
    "model2.add(BatchNormalization())\n",
    "model2.add(Conv2D(128, kernel_size=(3, 3), activation='relu', padding='same'))\n",
    "model2.add(BatchNormalization())\n",
    "model2.add(MaxPooling2D(pool_size=(2, 2)))\n",
    "model2.add(Dropout(0.25))\n",
    "\n",
    "model2.add(Flatten())\n",
    "\n",
    "model2.add(Dense(256, activation='relu'))\n",
    "model2.add(BatchNormalization())\n",
    "model2.add(Dropout(0.5))\n",
    "\n",
    "model2.add(Dense(10, activation='softmax'))\n",
    "\n",
    "# Compile the model with an initial learning rate and the learning rate scheduler\n",
    "initial_learning_rate = 0.001\n",
    "model2.compile(loss='categorical_crossentropy',\n",
    "               optimizer=tf.keras.optimizers.legacy.Adam(learning_rate=initial_learning_rate),\n",
    "               metrics=['accuracy'])\n",
    "\n",
    "# Attach the learning rate scheduler callback\n",
    "lr_scheduler_callback = LearningRateScheduler(lr_scheduler)"
   ]
  },
  {
   "cell_type": "code",
   "execution_count": 38,
   "id": "f8396a48",
   "metadata": {
    "execution": {
     "iopub.execute_input": "2023-12-04T21:56:51.188594Z",
     "iopub.status.busy": "2023-12-04T21:56:51.188295Z",
     "iopub.status.idle": "2023-12-04T21:57:11.485186Z",
     "shell.execute_reply": "2023-12-04T21:57:11.484090Z"
    },
    "papermill": {
     "duration": 20.332805,
     "end_time": "2023-12-04T21:57:11.487319",
     "exception": false,
     "start_time": "2023-12-04T21:56:51.154514",
     "status": "completed"
    },
    "tags": []
   },
   "outputs": [
    {
     "name": "stdout",
     "output_type": "stream",
     "text": [
      "Epoch 1/10\n",
      "303/303 - 65s - loss: 0.1883 - accuracy: 0.9433 - val_loss: 3.9150 - val_accuracy: 0.2062 - 65s/epoch - 216ms/step\n",
      "Epoch 2/10\n",
      "303/303 - 70s - loss: 0.0669 - accuracy: 0.9790 - val_loss: 0.0513 - val_accuracy: 0.9848 - 70s/epoch - 231ms/step\n",
      "Epoch 3/10\n",
      "303/303 - 72s - loss: 0.0467 - accuracy: 0.9863 - val_loss: 0.0368 - val_accuracy: 0.9899 - 72s/epoch - 238ms/step\n",
      "Epoch 4/10\n",
      "303/303 - 73s - loss: 0.0410 - accuracy: 0.9865 - val_loss: 0.0428 - val_accuracy: 0.9875 - 73s/epoch - 241ms/step\n",
      "Epoch 5/10\n",
      "303/303 - 76s - loss: 0.0330 - accuracy: 0.9897 - val_loss: 0.0347 - val_accuracy: 0.9896 - 76s/epoch - 252ms/step\n",
      "Epoch 6/10\n",
      "303/303 - 76s - loss: 0.0292 - accuracy: 0.9910 - val_loss: 0.0370 - val_accuracy: 0.9890 - 76s/epoch - 251ms/step\n",
      "Epoch 7/10\n",
      "303/303 - 76s - loss: 0.0240 - accuracy: 0.9923 - val_loss: 0.0321 - val_accuracy: 0.9908 - 76s/epoch - 251ms/step\n",
      "Epoch 8/10\n",
      "303/303 - 75s - loss: 0.0251 - accuracy: 0.9914 - val_loss: 0.0368 - val_accuracy: 0.9896 - 75s/epoch - 249ms/step\n",
      "Epoch 9/10\n",
      "303/303 - 76s - loss: 0.0215 - accuracy: 0.9932 - val_loss: 0.0316 - val_accuracy: 0.9893 - 76s/epoch - 249ms/step\n",
      "Epoch 10/10\n",
      "303/303 - 76s - loss: 0.0212 - accuracy: 0.9933 - val_loss: 0.0340 - val_accuracy: 0.9893 - 76s/epoch - 250ms/step\n"
     ]
    }
   ],
   "source": [
    "history2=model2.fit(x_train,y_train,epochs=10,batch_size=100,verbose=2,validation_split=0.1)"
   ]
  },
  {
   "cell_type": "code",
   "execution_count": 39,
   "id": "cb4e2a83",
   "metadata": {
    "execution": {
     "iopub.execute_input": "2023-12-04T21:57:11.550082Z",
     "iopub.status.busy": "2023-12-04T21:57:11.549750Z",
     "iopub.status.idle": "2023-12-04T21:57:11.818508Z",
     "shell.execute_reply": "2023-12-04T21:57:11.817628Z"
    },
    "papermill": {
     "duration": 0.302285,
     "end_time": "2023-12-04T21:57:11.820543",
     "exception": false,
     "start_time": "2023-12-04T21:57:11.518258",
     "status": "completed"
    },
    "scrolled": true,
    "tags": []
   },
   "outputs": [
    {
     "data": {
      "text/plain": [
       "<Axes: >"
      ]
     },
     "execution_count": 39,
     "metadata": {},
     "output_type": "execute_result"
    },
    {
     "data": {
      "image/png": "[encoded data removed]",
      "text/plain": [
       "<Figure size 800x500 with 1 Axes>"
      ]
     },
     "metadata": {},
     "output_type": "display_data"
    }
   ],
   "source": [
    "pd.DataFrame(history2.history).plot(figsize=(8, 5))"
   ]
  },
  {
   "cell_type": "code",
   "execution_count": 40,
   "id": "0e34c47b",
   "metadata": {
    "execution": {
     "iopub.execute_input": "2023-12-04T21:57:11.887964Z",
     "iopub.status.busy": "2023-12-04T21:57:11.887625Z",
     "iopub.status.idle": "2023-12-04T21:57:12.664803Z",
     "shell.execute_reply": "2023-12-04T21:57:12.663584Z"
    },
    "papermill": {
     "duration": 0.814506,
     "end_time": "2023-12-04T21:57:12.666882",
     "exception": false,
     "start_time": "2023-12-04T21:57:11.852376",
     "status": "completed"
    },
    "tags": []
   },
   "outputs": [
    {
     "name": "stdout",
     "output_type": "stream",
     "text": [
      "263/263 [==============================] - 6s 22ms/step\n",
      "263/263 [==============================] - 6s 23ms/step - loss: 0.0295 - accuracy: 0.9911\n"
     ]
    },
    {
     "data": {
      "text/plain": [
       "[0.029475722461938858, 0.9910714030265808]"
      ]
     },
     "execution_count": 40,
     "metadata": {},
     "output_type": "execute_result"
    }
   ],
   "source": [
    "cnn_predict=model2.predict(x_test)\n",
    "model2.evaluate(x_test,y_test)"
   ]
  },
  {
   "cell_type": "markdown",
   "id": "2f79e4fa",
   "metadata": {
    "papermill": {
     "duration": 0.036582,
     "end_time": "2023-12-04T21:57:13.590727",
     "exception": false,
     "start_time": "2023-12-04T21:57:13.554145",
     "status": "completed"
    },
    "tags": []
   },
   "source": [
    "# 5.0 **Test Prediction**"
   ]
  },
  {
   "cell_type": "code",
   "execution_count": 41,
   "id": "a0d5b40e",
   "metadata": {
    "execution": {
     "iopub.execute_input": "2023-12-04T21:57:13.659589Z",
     "iopub.status.busy": "2023-12-04T21:57:13.659003Z",
     "iopub.status.idle": "2023-12-04T21:57:15.825861Z",
     "shell.execute_reply": "2023-12-04T21:57:15.825042Z"
    },
    "papermill": {
     "duration": 2.203433,
     "end_time": "2023-12-04T21:57:15.828084",
     "exception": false,
     "start_time": "2023-12-04T21:57:13.624651",
     "status": "completed"
    },
    "tags": []
   },
   "outputs": [],
   "source": [
    "# clean input data\n",
    "test_data=pd.read_csv(\"test.csv\")\n",
    "test_x=test_data/255\n",
    "test_x=test_x.values.reshape(-1,28,28,1)"
   ]
  },
  {
   "cell_type": "code",
   "execution_count": 42,
   "id": "d91552a8",
   "metadata": {
    "execution": {
     "iopub.execute_input": "2023-12-04T21:57:15.899577Z",
     "iopub.status.busy": "2023-12-04T21:57:15.898713Z",
     "iopub.status.idle": "2023-12-04T21:57:15.944305Z",
     "shell.execute_reply": "2023-12-04T21:57:15.943438Z"
    },
    "papermill": {
     "duration": 0.084533,
     "end_time": "2023-12-04T21:57:15.946648",
     "exception": false,
     "start_time": "2023-12-04T21:57:15.862115",
     "status": "completed"
    },
    "tags": []
   },
   "outputs": [
    {
     "name": "stdout",
     "output_type": "stream",
     "text": [
      "875/875 [==============================] - 21s 24ms/step\n"
     ]
    }
   ],
   "source": [
    "# predict with trained model - the CNN model produced better results\n",
    "new_predict=model2.predict(test_x)\n",
    "new_predict1=np.argmax(new_predict,axis=1)"
   ]
  },
  {
   "cell_type": "code",
   "execution_count": 43,
   "id": "1cb94d97",
   "metadata": {
    "execution": {
     "iopub.execute_input": "2023-12-04T21:57:16.016340Z",
     "iopub.status.busy": "2023-12-04T21:57:16.016011Z",
     "iopub.status.idle": "2023-12-04T21:57:16.020595Z",
     "shell.execute_reply": "2023-12-04T21:57:16.019745Z"
    },
    "papermill": {
     "duration": 0.041572,
     "end_time": "2023-12-04T21:57:16.022600",
     "exception": false,
     "start_time": "2023-12-04T21:57:15.981028",
     "status": "completed"
    },
    "tags": []
   },
   "outputs": [],
   "source": [
    "# export results\n",
    "results = pd.Series(new_predict1,name=\"Label\")\n",
    "submission=pd.concat([pd.Series(range(1,28001),name = \"ImageId\"),results],axis = 1)\n",
    "submission.to_csv(\"submission.csv\",index=False)"
   ]
  }
 ],
 "metadata": {
  "kaggle": {
   "accelerator": "nvidiaTeslaT4",
   "dataSources": [
    {
     "databundleVersionId": 861823,
     "sourceId": 3004,
     "sourceType": "competition"
    }
   ],
   "dockerImageVersionId": 30588,
   "isGpuEnabled": true,
   "isInternetEnabled": true,
   "language": "python",
   "sourceType": "notebook"
  },
  "kernelspec": {
   "display_name": "Python 3 (ipykernel)",
   "language": "python",
   "name": "python3"
  },
  "language_info": {
   "codemirror_mode": {
    "name": "ipython",
    "version": 3
   },
   "file_extension": ".py",
   "mimetype": "text/x-python",
   "name": "python",
   "nbconvert_exporter": "python",
   "pygments_lexer": "ipython3",
   "version": "3.9.18"
  },
  "papermill": {
   "default_parameters": {},
   "duration": 84.752962,
   "end_time": "2023-12-04T21:57:22.017148",
   "environment_variables": {},
   "exception": null,
   "input_path": "__notebook__.ipynb",
   "output_path": "__notebook__.ipynb",
   "parameters": {},
   "start_time": "2023-12-04T21:55:57.264186",
   "version": "2.4.0"
  }
 },
 "nbformat": 4,
 "nbformat_minor": 5
}
