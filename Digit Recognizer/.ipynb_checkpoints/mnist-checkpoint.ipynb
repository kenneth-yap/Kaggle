{
 "cells": [
  {
   "cell_type": "code",
   "execution_count": 1,
   "id": "796eab68",
   "metadata": {
    "execution": {
     "iopub.execute_input": "2023-12-04T21:56:00.909405Z",
     "iopub.status.busy": "2023-12-04T21:56:00.909101Z",
     "iopub.status.idle": "2023-12-04T21:56:01.710618Z",
     "shell.execute_reply": "2023-12-04T21:56:01.709725Z"
    },
    "papermill": {
     "duration": 0.823045,
     "end_time": "2023-12-04T21:56:01.713080",
     "exception": false,
     "start_time": "2023-12-04T21:56:00.890035",
     "status": "completed"
    },
    "tags": []
   },
   "outputs": [],
   "source": [
    "# This Python 3 environment comes with many helpful analytics libraries installed\n",
    "# It is defined by the kaggle/python Docker image: https://github.com/kaggle/docker-python\n",
    "# For example, here's several helpful packages to load\n",
    "\n",
    "import numpy as np # linear algebra\n",
    "import pandas as pd # data processing, CSV file I/O (e.g. pd.read_csv)\n",
    "\n",
    "# Input data files are available in the read-only \"../input/\" directory\n",
    "# For example, running this (by clicking run or pressing Shift+Enter) will list all files under the input directory\n",
    "\n",
    "import os\n",
    "for dirname, _, filenames in os.walk('/kaggle/input'):\n",
    "    for filename in filenames:\n",
    "        print(os.path.join(dirname, filename))\n",
    "\n",
    "# You can write up to 20GB to the current directory (/kaggle/working/) that gets preserved as output when you create a version using \"Save & Run All\" \n",
    "# You can also write temporary files to /kaggle/temp/, but they won't be saved outside of the current session\n"
   ]
  },
  {
   "cell_type": "code",
   "execution_count": 2,
   "id": "e72a05b5",
   "metadata": {
    "execution": {
     "iopub.execute_input": "2023-12-04T21:56:01.751994Z",
     "iopub.status.busy": "2023-12-04T21:56:01.751500Z",
     "iopub.status.idle": "2023-12-04T21:56:02.860081Z",
     "shell.execute_reply": "2023-12-04T21:56:02.859157Z"
    },
    "papermill": {
     "duration": 1.130322,
     "end_time": "2023-12-04T21:56:02.862707",
     "exception": false,
     "start_time": "2023-12-04T21:56:01.732385",
     "status": "completed"
    },
    "tags": []
   },
   "outputs": [],
   "source": [
    "import numpy as np\n",
    "import pandas as pd\n",
    "import matplotlib.pyplot as plt\n",
    "import matplotlib.image as mpimg\n",
    "%matplotlib inline\n",
    "import seaborn as sns\n"
   ]
  },
  {
   "cell_type": "code",
   "execution_count": 3,
   "id": "bdf80f21",
   "metadata": {
    "execution": {
     "iopub.execute_input": "2023-12-04T21:56:02.900371Z",
     "iopub.status.busy": "2023-12-04T21:56:02.900071Z",
     "iopub.status.idle": "2023-12-04T21:56:02.904642Z",
     "shell.execute_reply": "2023-12-04T21:56:02.903601Z"
    },
    "papermill": {
     "duration": 0.024929,
     "end_time": "2023-12-04T21:56:02.906656",
     "exception": false,
     "start_time": "2023-12-04T21:56:02.881727",
     "status": "completed"
    },
    "tags": []
   },
   "outputs": [],
   "source": [
    "from IPython.core.interactiveshell import InteractiveShell\n",
    "InteractiveShell.ast_node_interactivity = \"all\"\n"
   ]
  },
  {
   "cell_type": "markdown",
   "id": "fa8fa5c8",
   "metadata": {
    "papermill": {
     "duration": 0.016911,
     "end_time": "2023-12-04T21:56:02.940582",
     "exception": false,
     "start_time": "2023-12-04T21:56:02.923671",
     "status": "completed"
    },
    "tags": []
   },
   "source": [
    " Loading Data"
   ]
  },
  {
   "cell_type": "code",
   "execution_count": 4,
   "id": "f492307e",
   "metadata": {
    "execution": {
     "iopub.execute_input": "2023-12-04T21:56:02.976482Z",
     "iopub.status.busy": "2023-12-04T21:56:02.976213Z",
     "iopub.status.idle": "2023-12-04T21:56:06.564550Z",
     "shell.execute_reply": "2023-12-04T21:56:06.563493Z"
    },
    "papermill": {
     "duration": 3.608885,
     "end_time": "2023-12-04T21:56:06.567226",
     "exception": false,
     "start_time": "2023-12-04T21:56:02.958341",
     "status": "completed"
    },
    "tags": []
   },
   "outputs": [],
   "source": [
    "df=pd.read_csv(\"train.csv\")\n"
   ]
  },
  {
   "cell_type": "code",
   "execution_count": 5,
   "id": "7b3b00ff",
   "metadata": {
    "execution": {
     "iopub.execute_input": "2023-12-04T21:56:06.604924Z",
     "iopub.status.busy": "2023-12-04T21:56:06.604588Z",
     "iopub.status.idle": "2023-12-04T21:56:06.631115Z",
     "shell.execute_reply": "2023-12-04T21:56:06.630189Z"
    },
    "papermill": {
     "duration": 0.048106,
     "end_time": "2023-12-04T21:56:06.633666",
     "exception": false,
     "start_time": "2023-12-04T21:56:06.585560",
     "status": "completed"
    },
    "tags": []
   },
   "outputs": [
    {
     "data": {
      "text/html": [
       "<div>\n",
       "<style scoped>\n",
       "    .dataframe tbody tr th:only-of-type {\n",
       "        vertical-align: middle;\n",
       "    }\n",
       "\n",
       "    .dataframe tbody tr th {\n",
       "        vertical-align: top;\n",
       "    }\n",
       "\n",
       "    .dataframe thead th {\n",
       "        text-align: right;\n",
       "    }\n",
       "</style>\n",
       "<table border=\"1\" class=\"dataframe\">\n",
       "  <thead>\n",
       "    <tr style=\"text-align: right;\">\n",
       "      <th></th>\n",
       "      <th>label</th>\n",
       "      <th>pixel0</th>\n",
       "      <th>pixel1</th>\n",
       "      <th>pixel2</th>\n",
       "      <th>pixel3</th>\n",
       "      <th>pixel4</th>\n",
       "      <th>pixel5</th>\n",
       "      <th>pixel6</th>\n",
       "      <th>pixel7</th>\n",
       "      <th>pixel8</th>\n",
       "      <th>...</th>\n",
       "      <th>pixel774</th>\n",
       "      <th>pixel775</th>\n",
       "      <th>pixel776</th>\n",
       "      <th>pixel777</th>\n",
       "      <th>pixel778</th>\n",
       "      <th>pixel779</th>\n",
       "      <th>pixel780</th>\n",
       "      <th>pixel781</th>\n",
       "      <th>pixel782</th>\n",
       "      <th>pixel783</th>\n",
       "    </tr>\n",
       "  </thead>\n",
       "  <tbody>\n",
       "    <tr>\n",
       "      <th>0</th>\n",
       "      <td>1</td>\n",
       "      <td>0</td>\n",
       "      <td>0</td>\n",
       "      <td>0</td>\n",
       "      <td>0</td>\n",
       "      <td>0</td>\n",
       "      <td>0</td>\n",
       "      <td>0</td>\n",
       "      <td>0</td>\n",
       "      <td>0</td>\n",
       "      <td>...</td>\n",
       "      <td>0</td>\n",
       "      <td>0</td>\n",
       "      <td>0</td>\n",
       "      <td>0</td>\n",
       "      <td>0</td>\n",
       "      <td>0</td>\n",
       "      <td>0</td>\n",
       "      <td>0</td>\n",
       "      <td>0</td>\n",
       "      <td>0</td>\n",
       "    </tr>\n",
       "    <tr>\n",
       "      <th>1</th>\n",
       "      <td>0</td>\n",
       "      <td>0</td>\n",
       "      <td>0</td>\n",
       "      <td>0</td>\n",
       "      <td>0</td>\n",
       "      <td>0</td>\n",
       "      <td>0</td>\n",
       "      <td>0</td>\n",
       "      <td>0</td>\n",
       "      <td>0</td>\n",
       "      <td>...</td>\n",
       "      <td>0</td>\n",
       "      <td>0</td>\n",
       "      <td>0</td>\n",
       "      <td>0</td>\n",
       "      <td>0</td>\n",
       "      <td>0</td>\n",
       "      <td>0</td>\n",
       "      <td>0</td>\n",
       "      <td>0</td>\n",
       "      <td>0</td>\n",
       "    </tr>\n",
       "    <tr>\n",
       "      <th>2</th>\n",
       "      <td>1</td>\n",
       "      <td>0</td>\n",
       "      <td>0</td>\n",
       "      <td>0</td>\n",
       "      <td>0</td>\n",
       "      <td>0</td>\n",
       "      <td>0</td>\n",
       "      <td>0</td>\n",
       "      <td>0</td>\n",
       "      <td>0</td>\n",
       "      <td>...</td>\n",
       "      <td>0</td>\n",
       "      <td>0</td>\n",
       "      <td>0</td>\n",
       "      <td>0</td>\n",
       "      <td>0</td>\n",
       "      <td>0</td>\n",
       "      <td>0</td>\n",
       "      <td>0</td>\n",
       "      <td>0</td>\n",
       "      <td>0</td>\n",
       "    </tr>\n",
       "    <tr>\n",
       "      <th>3</th>\n",
       "      <td>4</td>\n",
       "      <td>0</td>\n",
       "      <td>0</td>\n",
       "      <td>0</td>\n",
       "      <td>0</td>\n",
       "      <td>0</td>\n",
       "      <td>0</td>\n",
       "      <td>0</td>\n",
       "      <td>0</td>\n",
       "      <td>0</td>\n",
       "      <td>...</td>\n",
       "      <td>0</td>\n",
       "      <td>0</td>\n",
       "      <td>0</td>\n",
       "      <td>0</td>\n",
       "      <td>0</td>\n",
       "      <td>0</td>\n",
       "      <td>0</td>\n",
       "      <td>0</td>\n",
       "      <td>0</td>\n",
       "      <td>0</td>\n",
       "    </tr>\n",
       "    <tr>\n",
       "      <th>4</th>\n",
       "      <td>0</td>\n",
       "      <td>0</td>\n",
       "      <td>0</td>\n",
       "      <td>0</td>\n",
       "      <td>0</td>\n",
       "      <td>0</td>\n",
       "      <td>0</td>\n",
       "      <td>0</td>\n",
       "      <td>0</td>\n",
       "      <td>0</td>\n",
       "      <td>...</td>\n",
       "      <td>0</td>\n",
       "      <td>0</td>\n",
       "      <td>0</td>\n",
       "      <td>0</td>\n",
       "      <td>0</td>\n",
       "      <td>0</td>\n",
       "      <td>0</td>\n",
       "      <td>0</td>\n",
       "      <td>0</td>\n",
       "      <td>0</td>\n",
       "    </tr>\n",
       "  </tbody>\n",
       "</table>\n",
       "<p>5 rows × 785 columns</p>\n",
       "</div>"
      ],
      "text/plain": [
       "   label  pixel0  pixel1  pixel2  pixel3  pixel4  pixel5  pixel6  pixel7  \\\n",
       "0      1       0       0       0       0       0       0       0       0   \n",
       "1      0       0       0       0       0       0       0       0       0   \n",
       "2      1       0       0       0       0       0       0       0       0   \n",
       "3      4       0       0       0       0       0       0       0       0   \n",
       "4      0       0       0       0       0       0       0       0       0   \n",
       "\n",
       "   pixel8  ...  pixel774  pixel775  pixel776  pixel777  pixel778  pixel779  \\\n",
       "0       0  ...         0         0         0         0         0         0   \n",
       "1       0  ...         0         0         0         0         0         0   \n",
       "2       0  ...         0         0         0         0         0         0   \n",
       "3       0  ...         0         0         0         0         0         0   \n",
       "4       0  ...         0         0         0         0         0         0   \n",
       "\n",
       "   pixel780  pixel781  pixel782  pixel783  \n",
       "0         0         0         0         0  \n",
       "1         0         0         0         0  \n",
       "2         0         0         0         0  \n",
       "3         0         0         0         0  \n",
       "4         0         0         0         0  \n",
       "\n",
       "[5 rows x 785 columns]"
      ]
     },
     "execution_count": 5,
     "metadata": {},
     "output_type": "execute_result"
    }
   ],
   "source": [
    "df.head()\n"
   ]
  },
  {
   "cell_type": "code",
   "execution_count": 6,
   "id": "ebb05573",
   "metadata": {
    "execution": {
     "iopub.execute_input": "2023-12-04T21:56:06.673469Z",
     "iopub.status.busy": "2023-12-04T21:56:06.673191Z",
     "iopub.status.idle": "2023-12-04T21:56:06.677397Z",
     "shell.execute_reply": "2023-12-04T21:56:06.676526Z"
    },
    "papermill": {
     "duration": 0.025836,
     "end_time": "2023-12-04T21:56:06.679331",
     "exception": false,
     "start_time": "2023-12-04T21:56:06.653495",
     "status": "completed"
    },
    "tags": []
   },
   "outputs": [],
   "source": [
    "y=df[\"label\"]\n"
   ]
  },
  {
   "cell_type": "code",
   "execution_count": 7,
   "id": "45250499",
   "metadata": {
    "execution": {
     "iopub.execute_input": "2023-12-04T21:56:06.716536Z",
     "iopub.status.busy": "2023-12-04T21:56:06.715762Z",
     "iopub.status.idle": "2023-12-04T21:56:06.806884Z",
     "shell.execute_reply": "2023-12-04T21:56:06.805872Z"
    },
    "papermill": {
     "duration": 0.112101,
     "end_time": "2023-12-04T21:56:06.809330",
     "exception": false,
     "start_time": "2023-12-04T21:56:06.697229",
     "status": "completed"
    },
    "tags": []
   },
   "outputs": [],
   "source": [
    "X=df.drop(\"label\",axis=1)\n"
   ]
  },
  {
   "cell_type": "code",
   "execution_count": 8,
   "id": "4f7a311d",
   "metadata": {
    "execution": {
     "iopub.execute_input": "2023-12-04T21:56:06.847931Z",
     "iopub.status.busy": "2023-12-04T21:56:06.847585Z",
     "iopub.status.idle": "2023-12-04T21:56:06.954972Z",
     "shell.execute_reply": "2023-12-04T21:56:06.954001Z"
    },
    "papermill": {
     "duration": 0.129971,
     "end_time": "2023-12-04T21:56:06.957960",
     "exception": false,
     "start_time": "2023-12-04T21:56:06.827989",
     "status": "completed"
    },
    "tags": []
   },
   "outputs": [
    {
     "name": "stdout",
     "output_type": "stream",
     "text": [
      "<class 'pandas.core.frame.DataFrame'>\n",
      "RangeIndex: 42000 entries, 0 to 41999\n",
      "Columns: 784 entries, pixel0 to pixel783\n",
      "dtypes: int64(784)\n",
      "memory usage: 251.2 MB\n"
     ]
    }
   ],
   "source": [
    "X.info()\n",
    "\n"
   ]
  },
  {
   "cell_type": "markdown",
   "id": "57b5659b",
   "metadata": {
    "papermill": {
     "duration": 0.016897,
     "end_time": "2023-12-04T21:56:06.994873",
     "exception": false,
     "start_time": "2023-12-04T21:56:06.977976",
     "status": "completed"
    },
    "tags": []
   },
   "source": [
    " Exploratory Data Analysis"
   ]
  },
  {
   "cell_type": "code",
   "execution_count": 9,
   "id": "e44713a2",
   "metadata": {
    "execution": {
     "iopub.execute_input": "2023-12-04T21:56:07.071746Z",
     "iopub.status.busy": "2023-12-04T21:56:07.071054Z",
     "iopub.status.idle": "2023-12-04T21:56:07.324928Z",
     "shell.execute_reply": "2023-12-04T21:56:07.324026Z"
    },
    "papermill": {
     "duration": 0.314914,
     "end_time": "2023-12-04T21:56:07.327053",
     "exception": false,
     "start_time": "2023-12-04T21:56:07.012139",
     "status": "completed"
    },
    "tags": []
   },
   "outputs": [
    {
     "name": "stderr",
     "output_type": "stream",
     "text": [
      "/Users/kennethyap/anaconda3/envs/DataScience/lib/python3.9/site-packages/seaborn/_oldcore.py:1498: FutureWarning: is_categorical_dtype is deprecated and will be removed in a future version. Use isinstance(dtype, CategoricalDtype) instead\n",
      "  if pd.api.types.is_categorical_dtype(vector):\n",
      "/Users/kennethyap/anaconda3/envs/DataScience/lib/python3.9/site-packages/seaborn/_oldcore.py:1498: FutureWarning: is_categorical_dtype is deprecated and will be removed in a future version. Use isinstance(dtype, CategoricalDtype) instead\n",
      "  if pd.api.types.is_categorical_dtype(vector):\n",
      "/Users/kennethyap/anaconda3/envs/DataScience/lib/python3.9/site-packages/seaborn/_oldcore.py:1498: FutureWarning: is_categorical_dtype is deprecated and will be removed in a future version. Use isinstance(dtype, CategoricalDtype) instead\n",
      "  if pd.api.types.is_categorical_dtype(vector):\n"
     ]
    },
    {
     "data": {
      "text/plain": [
       "<Axes: xlabel='label', ylabel='count'>"
      ]
     },
     "execution_count": 9,
     "metadata": {},
     "output_type": "execute_result"
    },
    {
     "data": {
      "image/png": "[encoded data removed]",
      "text/plain": [
       "<Figure size 640x480 with 1 Axes>"
      ]
     },
     "metadata": {},
     "output_type": "display_data"
    }
   ],
   "source": [
    "sns.countplot(x=y)\n"
   ]
  },
  {
   "cell_type": "code",
   "execution_count": 10,
   "id": "bd1eb3f4",
   "metadata": {
    "execution": {
     "iopub.execute_input": "2023-12-04T21:56:07.365168Z",
     "iopub.status.busy": "2023-12-04T21:56:07.364802Z",
     "iopub.status.idle": "2023-12-04T21:56:07.373605Z",
     "shell.execute_reply": "2023-12-04T21:56:07.372756Z"
    },
    "papermill": {
     "duration": 0.03056,
     "end_time": "2023-12-04T21:56:07.375877",
     "exception": false,
     "start_time": "2023-12-04T21:56:07.345317",
     "status": "completed"
    },
    "tags": []
   },
   "outputs": [
    {
     "data": {
      "text/plain": [
       "label\n",
       "1    4684\n",
       "7    4401\n",
       "3    4351\n",
       "9    4188\n",
       "2    4177\n",
       "6    4137\n",
       "0    4132\n",
       "4    4072\n",
       "8    4063\n",
       "5    3795\n",
       "Name: count, dtype: int64"
      ]
     },
     "execution_count": 10,
     "metadata": {},
     "output_type": "execute_result"
    }
   ],
   "source": [
    "y.value_counts()\n"
   ]
  },
  {
   "cell_type": "code",
   "execution_count": 11,
   "id": "a3e169bf",
   "metadata": {
    "execution": {
     "iopub.execute_input": "2023-12-04T21:56:07.413984Z",
     "iopub.status.busy": "2023-12-04T21:56:07.413689Z",
     "iopub.status.idle": "2023-12-04T21:56:07.620950Z",
     "shell.execute_reply": "2023-12-04T21:56:07.619883Z"
    },
    "papermill": {
     "duration": 0.228328,
     "end_time": "2023-12-04T21:56:07.623066",
     "exception": false,
     "start_time": "2023-12-04T21:56:07.394738",
     "status": "completed"
    },
    "tags": []
   },
   "outputs": [
    {
     "data": {
      "text/plain": [
       "<matplotlib.image.AxesImage at 0x16d8a8700>"
      ]
     },
     "execution_count": 11,
     "metadata": {},
     "output_type": "execute_result"
    },
    {
     "data": {
      "image/png": "[encoded data removed]",
      "text/plain": [
       "<Figure size 640x480 with 1 Axes>"
      ]
     },
     "metadata": {},
     "output_type": "display_data"
    }
   ],
   "source": [
    "plt.imshow(X.iloc[100].to_numpy().reshape(28,28),cmap='binary')\n"
   ]
  },
  {
   "cell_type": "code",
   "execution_count": 12,
   "id": "1a2d160f",
   "metadata": {
    "execution": {
     "iopub.execute_input": "2023-12-04T21:56:07.662350Z",
     "iopub.status.busy": "2023-12-04T21:56:07.662051Z",
     "iopub.status.idle": "2023-12-04T21:56:07.666469Z",
     "shell.execute_reply": "2023-12-04T21:56:07.665569Z"
    },
    "papermill": {
     "duration": 0.025281,
     "end_time": "2023-12-04T21:56:07.668457",
     "exception": false,
     "start_time": "2023-12-04T21:56:07.643176",
     "status": "completed"
    },
    "tags": []
   },
   "outputs": [],
   "source": [
    "some_digit=X.to_numpy()[169]\n",
    "some_digit=some_digit.reshape(28,28)\n"
   ]
  },
  {
   "cell_type": "code",
   "execution_count": 13,
   "id": "f59ec808",
   "metadata": {
    "execution": {
     "iopub.execute_input": "2023-12-04T21:56:07.708726Z",
     "iopub.status.busy": "2023-12-04T21:56:07.708454Z",
     "iopub.status.idle": "2023-12-04T21:56:07.974968Z",
     "shell.execute_reply": "2023-12-04T21:56:07.974091Z"
    },
    "papermill": {
     "duration": 0.289533,
     "end_time": "2023-12-04T21:56:07.977274",
     "exception": false,
     "start_time": "2023-12-04T21:56:07.687741",
     "status": "completed"
    },
    "tags": []
   },
   "outputs": [
    {
     "data": {
      "text/plain": [
       "<matplotlib.image.AxesImage at 0x13a579b50>"
      ]
     },
     "execution_count": 13,
     "metadata": {},
     "output_type": "execute_result"
    },
    {
     "data": {
      "image/png": "[encoded data removed]",
      "text/plain": [
       "<Figure size 640x480 with 1 Axes>"
      ]
     },
     "metadata": {},
     "output_type": "display_data"
    }
   ],
   "source": [
    "plt.imshow(some_digit,cmap=\"binary\")\n"
   ]
  },
  {
   "cell_type": "code",
   "execution_count": 14,
   "id": "8c31f648",
   "metadata": {
    "execution": {
     "iopub.execute_input": "2023-12-04T21:56:08.016580Z",
     "iopub.status.busy": "2023-12-04T21:56:08.016307Z",
     "iopub.status.idle": "2023-12-04T21:56:08.022225Z",
     "shell.execute_reply": "2023-12-04T21:56:08.021322Z"
    },
    "papermill": {
     "duration": 0.027746,
     "end_time": "2023-12-04T21:56:08.024168",
     "exception": false,
     "start_time": "2023-12-04T21:56:07.996422",
     "status": "completed"
    },
    "tags": []
   },
   "outputs": [
    {
     "data": {
      "text/plain": [
       "2"
      ]
     },
     "execution_count": 14,
     "metadata": {},
     "output_type": "execute_result"
    }
   ],
   "source": [
    "y[169]\n"
   ]
  },
  {
   "cell_type": "code",
   "execution_count": 15,
   "id": "208d6666",
   "metadata": {
    "execution": {
     "iopub.execute_input": "2023-12-04T21:56:08.065833Z",
     "iopub.status.busy": "2023-12-04T21:56:08.065047Z",
     "iopub.status.idle": "2023-12-04T21:56:08.096431Z",
     "shell.execute_reply": "2023-12-04T21:56:08.095531Z"
    },
    "papermill": {
     "duration": 0.053784,
     "end_time": "2023-12-04T21:56:08.098430",
     "exception": false,
     "start_time": "2023-12-04T21:56:08.044646",
     "status": "completed"
    },
    "tags": []
   },
   "outputs": [
    {
     "data": {
      "text/plain": [
       "pixel0      0\n",
       "pixel1      0\n",
       "pixel2      0\n",
       "pixel3      0\n",
       "pixel4      0\n",
       "           ..\n",
       "pixel779    0\n",
       "pixel780    0\n",
       "pixel781    0\n",
       "pixel782    0\n",
       "pixel783    0\n",
       "Length: 784, dtype: int64"
      ]
     },
     "execution_count": 15,
     "metadata": {},
     "output_type": "execute_result"
    }
   ],
   "source": [
    "X.isnull().sum()\n"
   ]
  },
  {
   "cell_type": "code",
   "execution_count": 16,
   "id": "b9a1b6c1",
   "metadata": {
    "execution": {
     "iopub.execute_input": "2023-12-04T21:56:08.138917Z",
     "iopub.status.busy": "2023-12-04T21:56:08.138594Z",
     "iopub.status.idle": "2023-12-04T21:56:08.409741Z",
     "shell.execute_reply": "2023-12-04T21:56:08.408799Z"
    },
    "papermill": {
     "duration": 0.293575,
     "end_time": "2023-12-04T21:56:08.411761",
     "exception": false,
     "start_time": "2023-12-04T21:56:08.118186",
     "status": "completed"
    },
    "tags": []
   },
   "outputs": [
    {
     "data": {
      "text/plain": [
       "<matplotlib.image.AxesImage at 0x13f8222b0>"
      ]
     },
     "execution_count": 16,
     "metadata": {},
     "output_type": "execute_result"
    },
    {
     "data": {
      "image/png": "[encoded data removed]",
      "text/plain": [
       "<Figure size 640x480 with 1 Axes>"
      ]
     },
     "metadata": {},
     "output_type": "display_data"
    }
   ],
   "source": [
    "#this shows a better way to plot the images. Using .values will convert the dataseries into a numpy array\n",
    "plt.imshow(X.iloc[28].values.reshape(28,28))\n"
   ]
  },
  {
   "cell_type": "code",
   "execution_count": 17,
   "id": "bae017da",
   "metadata": {
    "execution": {
     "iopub.execute_input": "2023-12-04T21:56:08.453119Z",
     "iopub.status.busy": "2023-12-04T21:56:08.452780Z",
     "iopub.status.idle": "2023-12-04T21:56:08.470321Z",
     "shell.execute_reply": "2023-12-04T21:56:08.469288Z"
    },
    "papermill": {
     "duration": 0.040944,
     "end_time": "2023-12-04T21:56:08.472485",
     "exception": false,
     "start_time": "2023-12-04T21:56:08.431541",
     "status": "completed"
    },
    "tags": []
   },
   "outputs": [
    {
     "data": {
      "text/plain": [
       "count       784\n",
       "unique        1\n",
       "top       False\n",
       "freq        784\n",
       "dtype: object"
      ]
     },
     "execution_count": 17,
     "metadata": {},
     "output_type": "execute_result"
    }
   ],
   "source": [
    "X.isnull().any().describe()\n"
   ]
  },
  {
   "cell_type": "markdown",
   "id": "99ba7c79",
   "metadata": {
    "papermill": {
     "duration": 0.019703,
     "end_time": "2023-12-04T21:56:08.512687",
     "exception": false,
     "start_time": "2023-12-04T21:56:08.492984",
     "status": "completed"
    },
    "tags": []
   },
   "source": [
    " **Reshaping the Data**"
   ]
  },
  {
   "cell_type": "code",
   "execution_count": 18,
   "id": "856bda03",
   "metadata": {
    "execution": {
     "iopub.execute_input": "2023-12-04T21:56:08.552681Z",
     "iopub.status.busy": "2023-12-04T21:56:08.552380Z",
     "iopub.status.idle": "2023-12-04T21:56:08.557357Z",
     "shell.execute_reply": "2023-12-04T21:56:08.556400Z"
    },
    "papermill": {
     "duration": 0.027359,
     "end_time": "2023-12-04T21:56:08.559373",
     "exception": false,
     "start_time": "2023-12-04T21:56:08.532014",
     "status": "completed"
    },
    "tags": []
   },
   "outputs": [],
   "source": [
    "# An image is 28x28 size. 28*28=784; 1 represent the channels in the image.\n",
    "X=X.values.reshape(-1,28,28,1)\n"
   ]
  },
  {
   "cell_type": "code",
   "execution_count": 19,
   "id": "73be0f44",
   "metadata": {
    "execution": {
     "iopub.execute_input": "2023-12-04T21:56:08.599779Z",
     "iopub.status.busy": "2023-12-04T21:56:08.599494Z",
     "iopub.status.idle": "2023-12-04T21:56:08.605016Z",
     "shell.execute_reply": "2023-12-04T21:56:08.604186Z"
    },
    "papermill": {
     "duration": 0.028122,
     "end_time": "2023-12-04T21:56:08.606908",
     "exception": false,
     "start_time": "2023-12-04T21:56:08.578786",
     "status": "completed"
    },
    "tags": []
   },
   "outputs": [
    {
     "data": {
      "text/plain": [
       "(42000, 28, 28, 1)"
      ]
     },
     "execution_count": 19,
     "metadata": {},
     "output_type": "execute_result"
    }
   ],
   "source": [
    "X.shape\n"
   ]
  },
  {
   "cell_type": "markdown",
   "id": "5d3678f3",
   "metadata": {
    "papermill": {
     "duration": 0.020796,
     "end_time": "2023-12-04T21:56:08.647591",
     "exception": false,
     "start_time": "2023-12-04T21:56:08.626795",
     "status": "completed"
    },
    "tags": []
   },
   "source": [
    " Normalization"
   ]
  },
  {
   "cell_type": "code",
   "execution_count": 20,
   "id": "441858d6",
   "metadata": {
    "execution": {
     "iopub.execute_input": "2023-12-04T21:56:08.688529Z",
     "iopub.status.busy": "2023-12-04T21:56:08.688265Z",
     "iopub.status.idle": "2023-12-04T21:56:08.759749Z",
     "shell.execute_reply": "2023-12-04T21:56:08.758904Z"
    },
    "papermill": {
     "duration": 0.095042,
     "end_time": "2023-12-04T21:56:08.762336",
     "exception": false,
     "start_time": "2023-12-04T21:56:08.667294",
     "status": "completed"
    },
    "tags": []
   },
   "outputs": [],
   "source": [
    "#Pixel range is from 0 to 255,hence the number 255- this will scale images to [0,1]\n",
    "X=X.astype('float32')/255\n"
   ]
  },
  {
   "cell_type": "code",
   "execution_count": null,
   "id": "031bfa59",
   "metadata": {
    "execution": {
     "iopub.execute_input": "2023-12-04T21:56:08.805019Z",
     "iopub.status.busy": "2023-12-04T21:56:08.804655Z",
     "iopub.status.idle": "2023-12-04T21:56:21.170474Z",
     "shell.execute_reply": "2023-12-04T21:56:21.169277Z"
    },
    "papermill": {
     "duration": 12.389345,
     "end_time": "2023-12-04T21:56:21.172893",
     "exception": false,
     "start_time": "2023-12-04T21:56:08.783548",
     "status": "completed"
    },
    "tags": []
   },
   "outputs": [],
   "source": [
    "import tensorflow as tf\n",
    "from keras.utils import to_categorical \n"
   ]
  },
  {
   "cell_type": "markdown",
   "id": "1cee99a1",
   "metadata": {
    "papermill": {
     "duration": 0.019098,
     "end_time": "2023-12-04T21:56:21.211721",
     "exception": false,
     "start_time": "2023-12-04T21:56:21.192623",
     "status": "completed"
    },
    "tags": []
   },
   "source": [
    " Converting the labels into Categorical labels - Helps with Softmax Classification"
   ]
  },
  {
   "cell_type": "code",
   "execution_count": null,
   "id": "e433d179",
   "metadata": {
    "execution": {
     "iopub.execute_input": "2023-12-04T21:56:21.251792Z",
     "iopub.status.busy": "2023-12-04T21:56:21.251192Z",
     "iopub.status.idle": "2023-12-04T21:56:21.363923Z",
     "shell.execute_reply": "2023-12-04T21:56:21.363135Z"
    },
    "papermill": {
     "duration": 0.135435,
     "end_time": "2023-12-04T21:56:21.366010",
     "exception": false,
     "start_time": "2023-12-04T21:56:21.230575",
     "status": "completed"
    },
    "tags": []
   },
   "outputs": [],
   "source": [
    "y=tf.keras.utils.to_categorical(y,num_classes=10)\n"
   ]
  },
  {
   "cell_type": "code",
   "execution_count": null,
   "id": "5fe81c6d",
   "metadata": {
    "execution": {
     "iopub.execute_input": "2023-12-04T21:56:21.406671Z",
     "iopub.status.busy": "2023-12-04T21:56:21.406334Z",
     "iopub.status.idle": "2023-12-04T21:56:21.412238Z",
     "shell.execute_reply": "2023-12-04T21:56:21.411404Z"
    },
    "papermill": {
     "duration": 0.02867,
     "end_time": "2023-12-04T21:56:21.414088",
     "exception": false,
     "start_time": "2023-12-04T21:56:21.385418",
     "status": "completed"
    },
    "tags": []
   },
   "outputs": [],
   "source": [
    "y.shape\n"
   ]
  },
  {
   "cell_type": "markdown",
   "id": "4fbdb5d5",
   "metadata": {
    "papermill": {
     "duration": 0.019421,
     "end_time": "2023-12-04T21:56:21.453065",
     "exception": false,
     "start_time": "2023-12-04T21:56:21.433644",
     "status": "completed"
    },
    "tags": []
   },
   "source": [
    " Data Setup for Model"
   ]
  },
  {
   "cell_type": "code",
   "execution_count": null,
   "id": "bfcda8bf",
   "metadata": {
    "execution": {
     "iopub.execute_input": "2023-12-04T21:56:21.494483Z",
     "iopub.status.busy": "2023-12-04T21:56:21.493804Z",
     "iopub.status.idle": "2023-12-04T21:56:21.723243Z",
     "shell.execute_reply": "2023-12-04T21:56:21.722276Z"
    },
    "papermill": {
     "duration": 0.252909,
     "end_time": "2023-12-04T21:56:21.725693",
     "exception": false,
     "start_time": "2023-12-04T21:56:21.472784",
     "status": "completed"
    },
    "tags": []
   },
   "outputs": [],
   "source": [
    "from sklearn.model_selection import train_test_split\n"
   ]
  },
  {
   "cell_type": "code",
   "execution_count": null,
   "id": "b803ef6a",
   "metadata": {
    "execution": {
     "iopub.execute_input": "2023-12-04T21:56:21.775092Z",
     "iopub.status.busy": "2023-12-04T21:56:21.774738Z",
     "iopub.status.idle": "2023-12-04T21:56:22.078009Z",
     "shell.execute_reply": "2023-12-04T21:56:22.077188Z"
    },
    "papermill": {
     "duration": 0.327111,
     "end_time": "2023-12-04T21:56:22.080390",
     "exception": false,
     "start_time": "2023-12-04T21:56:21.753279",
     "status": "completed"
    },
    "tags": []
   },
   "outputs": [],
   "source": [
    "#Additional Validation split is not required as validtion split is mentioned during the model.fit in neural networks\n",
    "X_train, X_test, y_train, y_test = train_test_split(X, y, test_size=0.2, random_state=42)\n"
   ]
  },
  {
   "cell_type": "code",
   "execution_count": null,
   "id": "673439e3",
   "metadata": {
    "execution": {
     "iopub.execute_input": "2023-12-04T21:56:22.121470Z",
     "iopub.status.busy": "2023-12-04T21:56:22.121153Z",
     "iopub.status.idle": "2023-12-04T21:56:22.125260Z",
     "shell.execute_reply": "2023-12-04T21:56:22.124364Z"
    },
    "papermill": {
     "duration": 0.026895,
     "end_time": "2023-12-04T21:56:22.127262",
     "exception": false,
     "start_time": "2023-12-04T21:56:22.100367",
     "status": "completed"
    },
    "tags": []
   },
   "outputs": [],
   "source": [
    "# X_train, X_rem, y_train, y_rem = train_test_split(X, y, test_size=0.33, random_state=42)\n",
    "# # X_val, X_test, y_val, y_test = train_test_split(X_rem, y_rem, test_size=0.3, random_state=42)#\n"
   ]
  },
  {
   "cell_type": "code",
   "execution_count": null,
   "id": "d469f3d1",
   "metadata": {
    "execution": {
     "iopub.execute_input": "2023-12-04T21:56:22.167278Z",
     "iopub.status.busy": "2023-12-04T21:56:22.166983Z",
     "iopub.status.idle": "2023-12-04T21:56:22.171605Z",
     "shell.execute_reply": "2023-12-04T21:56:22.170805Z"
    },
    "papermill": {
     "duration": 0.026826,
     "end_time": "2023-12-04T21:56:22.173608",
     "exception": false,
     "start_time": "2023-12-04T21:56:22.146782",
     "status": "completed"
    },
    "tags": []
   },
   "outputs": [],
   "source": [
    "\n",
    "print(f'The shape of train data {X_train.shape} and test data {X_test.shape}')\n"
   ]
  },
  {
   "cell_type": "markdown",
   "id": "791f3702",
   "metadata": {
    "papermill": {
     "duration": 0.019456,
     "end_time": "2023-12-04T21:56:22.213194",
     "exception": false,
     "start_time": "2023-12-04T21:56:22.193738",
     "status": "completed"
    },
    "tags": []
   },
   "source": [
    " Setting up NN"
   ]
  },
  {
   "cell_type": "code",
   "execution_count": null,
   "id": "ef7d4e21",
   "metadata": {
    "execution": {
     "iopub.execute_input": "2023-12-04T21:56:22.253975Z",
     "iopub.status.busy": "2023-12-04T21:56:22.253249Z",
     "iopub.status.idle": "2023-12-04T21:56:22.259647Z",
     "shell.execute_reply": "2023-12-04T21:56:22.258984Z"
    },
    "papermill": {
     "duration": 0.028912,
     "end_time": "2023-12-04T21:56:22.261490",
     "exception": false,
     "start_time": "2023-12-04T21:56:22.232578",
     "status": "completed"
    },
    "tags": []
   },
   "outputs": [],
   "source": [
    "import tensorflow as tf\n",
    "from tensorflow.keras.models import Sequential\n",
    "from tensorflow.keras.layers import Dense,BatchNormalization\n",
    "from tensorflow.keras.layers import Flatten\n",
    "from tensorflow.keras.layers import Dropout\n",
    "from tensorflow.keras import regularizers\n",
    "#from tensorflow.keras.layers import\n"
   ]
  },
  {
   "cell_type": "code",
   "execution_count": null,
   "id": "02e63cae",
   "metadata": {
    "execution": {
     "iopub.execute_input": "2023-12-04T21:56:22.300817Z",
     "iopub.status.busy": "2023-12-04T21:56:22.300569Z",
     "iopub.status.idle": "2023-12-04T21:56:22.304176Z",
     "shell.execute_reply": "2023-12-04T21:56:22.303326Z"
    },
    "papermill": {
     "duration": 0.025583,
     "end_time": "2023-12-04T21:56:22.306130",
     "exception": false,
     "start_time": "2023-12-04T21:56:22.280547",
     "status": "completed"
    },
    "tags": []
   },
   "outputs": [],
   "source": [
    "# from sklearn.svm import SVC\n",
    "# from sklearn.metrics import confusion_matrix\n"
   ]
  },
  {
   "cell_type": "code",
   "execution_count": null,
   "id": "89fea8e0",
   "metadata": {
    "execution": {
     "iopub.execute_input": "2023-12-04T21:56:22.346715Z",
     "iopub.status.busy": "2023-12-04T21:56:22.346464Z",
     "iopub.status.idle": "2023-12-04T21:56:26.365963Z",
     "shell.execute_reply": "2023-12-04T21:56:26.365129Z"
    },
    "papermill": {
     "duration": 4.042593,
     "end_time": "2023-12-04T21:56:26.368415",
     "exception": false,
     "start_time": "2023-12-04T21:56:22.325822",
     "status": "completed"
    },
    "tags": []
   },
   "outputs": [],
   "source": [
    "model=Sequential()\n"
   ]
  },
  {
   "cell_type": "code",
   "execution_count": null,
   "id": "2b5e8eaf",
   "metadata": {
    "execution": {
     "iopub.execute_input": "2023-12-04T21:56:26.409147Z",
     "iopub.status.busy": "2023-12-04T21:56:26.408808Z",
     "iopub.status.idle": "2023-12-04T21:56:26.554151Z",
     "shell.execute_reply": "2023-12-04T21:56:26.553332Z"
    },
    "papermill": {
     "duration": 0.168092,
     "end_time": "2023-12-04T21:56:26.556419",
     "exception": false,
     "start_time": "2023-12-04T21:56:26.388327",
     "status": "completed"
    },
    "tags": []
   },
   "outputs": [],
   "source": [
    "#Flattening the data will convert it from (28,28) to (784)\n",
    "model.add(Flatten(input_shape=(28,28)))\n",
    "model.add(BatchNormalization())\n",
    "#model.add(Dense(784,activation=\"relu\"))\n",
    "model.add(Dense(784,activation=\"relu\"))\n",
    "model.add(BatchNormalization())\n",
    "#model.add(Dense(784,activation=\"relu\",kernel_regularizer='l2'))\n",
    "model.add(Dropout(0.5))\n",
    "model.add(Dense(128,activation=\"relu\"))\n",
    "model.add(BatchNormalization())\n",
    "model.add(Dense(10,activation=\"softmax\"))\n"
   ]
  },
  {
   "cell_type": "code",
   "execution_count": null,
   "id": "892493f1",
   "metadata": {
    "execution": {
     "iopub.execute_input": "2023-12-04T21:56:26.597009Z",
     "iopub.status.busy": "2023-12-04T21:56:26.596700Z",
     "iopub.status.idle": "2023-12-04T21:56:26.611949Z",
     "shell.execute_reply": "2023-12-04T21:56:26.611106Z"
    },
    "papermill": {
     "duration": 0.037285,
     "end_time": "2023-12-04T21:56:26.613763",
     "exception": false,
     "start_time": "2023-12-04T21:56:26.576478",
     "status": "completed"
    },
    "tags": []
   },
   "outputs": [],
   "source": [
    "model.compile(loss=\"categorical_crossentropy\",optimizer=\"adam\",metrics=[\"accuracy\"])\n"
   ]
  },
  {
   "cell_type": "code",
   "execution_count": null,
   "id": "1c647bb7",
   "metadata": {
    "execution": {
     "iopub.execute_input": "2023-12-04T21:56:26.653922Z",
     "iopub.status.busy": "2023-12-04T21:56:26.653634Z",
     "iopub.status.idle": "2023-12-04T21:56:26.682208Z",
     "shell.execute_reply": "2023-12-04T21:56:26.681268Z"
    },
    "papermill": {
     "duration": 0.059639,
     "end_time": "2023-12-04T21:56:26.692903",
     "exception": false,
     "start_time": "2023-12-04T21:56:26.633264",
     "status": "completed"
    },
    "tags": []
   },
   "outputs": [],
   "source": [
    "print(model.summary())\n"
   ]
  },
  {
   "cell_type": "code",
   "execution_count": null,
   "id": "665a3283",
   "metadata": {
    "execution": {
     "iopub.execute_input": "2023-12-04T21:56:26.740140Z",
     "iopub.status.busy": "2023-12-04T21:56:26.739832Z",
     "iopub.status.idle": "2023-12-04T21:56:47.199244Z",
     "shell.execute_reply": "2023-12-04T21:56:47.198077Z"
    },
    "papermill": {
     "duration": 20.484295,
     "end_time": "2023-12-04T21:56:47.201496",
     "exception": false,
     "start_time": "2023-12-04T21:56:26.717201",
     "status": "completed"
    },
    "tags": []
   },
   "outputs": [],
   "source": [
    "history=model.fit(X_train,y_train,epochs=10,batch_size=100,verbose=2,validation_data=(X_test,y_test),validation_split=0.1)\n"
   ]
  },
  {
   "cell_type": "markdown",
   "id": "ef88490d",
   "metadata": {
    "papermill": {
     "duration": 0.024307,
     "end_time": "2023-12-04T21:56:47.250340",
     "exception": false,
     "start_time": "2023-12-04T21:56:47.226033",
     "status": "completed"
    },
    "tags": []
   },
   "source": [
    " Model Evaluation"
   ]
  },
  {
   "cell_type": "code",
   "execution_count": null,
   "id": "b91d1dfc",
   "metadata": {
    "execution": {
     "iopub.execute_input": "2023-12-04T21:56:47.300251Z",
     "iopub.status.busy": "2023-12-04T21:56:47.299450Z",
     "iopub.status.idle": "2023-12-04T21:56:47.306421Z",
     "shell.execute_reply": "2023-12-04T21:56:47.305516Z"
    },
    "papermill": {
     "duration": 0.034636,
     "end_time": "2023-12-04T21:56:47.308541",
     "exception": false,
     "start_time": "2023-12-04T21:56:47.273905",
     "status": "completed"
    },
    "tags": []
   },
   "outputs": [],
   "source": [
    "model.history.history\n"
   ]
  },
  {
   "cell_type": "code",
   "execution_count": null,
   "id": "3fce8815",
   "metadata": {
    "execution": {
     "iopub.execute_input": "2023-12-04T21:56:47.357332Z",
     "iopub.status.busy": "2023-12-04T21:56:47.357063Z",
     "iopub.status.idle": "2023-12-04T21:56:48.169275Z",
     "shell.execute_reply": "2023-12-04T21:56:48.168211Z"
    },
    "papermill": {
     "duration": 0.839225,
     "end_time": "2023-12-04T21:56:48.171645",
     "exception": false,
     "start_time": "2023-12-04T21:56:47.332420",
     "status": "completed"
    },
    "tags": []
   },
   "outputs": [],
   "source": [
    "predictions=model.predict(X_test)\n"
   ]
  },
  {
   "cell_type": "code",
   "execution_count": null,
   "id": "8b437b41",
   "metadata": {
    "execution": {
     "iopub.execute_input": "2023-12-04T21:56:48.222417Z",
     "iopub.status.busy": "2023-12-04T21:56:48.222081Z",
     "iopub.status.idle": "2023-12-04T21:56:48.228139Z",
     "shell.execute_reply": "2023-12-04T21:56:48.227232Z"
    },
    "papermill": {
     "duration": 0.033472,
     "end_time": "2023-12-04T21:56:48.230256",
     "exception": false,
     "start_time": "2023-12-04T21:56:48.196784",
     "status": "completed"
    },
    "tags": []
   },
   "outputs": [],
   "source": [
    "predictions.shape\n"
   ]
  },
  {
   "cell_type": "code",
   "execution_count": null,
   "id": "216b41a5",
   "metadata": {
    "execution": {
     "iopub.execute_input": "2023-12-04T21:56:48.284721Z",
     "iopub.status.busy": "2023-12-04T21:56:48.284410Z",
     "iopub.status.idle": "2023-12-04T21:56:48.290552Z",
     "shell.execute_reply": "2023-12-04T21:56:48.289598Z"
    },
    "papermill": {
     "duration": 0.034712,
     "end_time": "2023-12-04T21:56:48.292542",
     "exception": false,
     "start_time": "2023-12-04T21:56:48.257830",
     "status": "completed"
    },
    "tags": []
   },
   "outputs": [],
   "source": [
    "y_test.shape\n"
   ]
  },
  {
   "cell_type": "code",
   "execution_count": null,
   "id": "5878b844",
   "metadata": {
    "execution": {
     "iopub.execute_input": "2023-12-04T21:56:48.345920Z",
     "iopub.status.busy": "2023-12-04T21:56:48.345591Z",
     "iopub.status.idle": "2023-12-04T21:56:48.349568Z",
     "shell.execute_reply": "2023-12-04T21:56:48.348647Z"
    },
    "papermill": {
     "duration": 0.033045,
     "end_time": "2023-12-04T21:56:48.351645",
     "exception": false,
     "start_time": "2023-12-04T21:56:48.318600",
     "status": "completed"
    },
    "tags": []
   },
   "outputs": [],
   "source": [
    "# model.summary()\n"
   ]
  },
  {
   "cell_type": "code",
   "execution_count": null,
   "id": "c6bcbb74",
   "metadata": {
    "execution": {
     "iopub.execute_input": "2023-12-04T21:56:48.404069Z",
     "iopub.status.busy": "2023-12-04T21:56:48.403777Z",
     "iopub.status.idle": "2023-12-04T21:56:49.354332Z",
     "shell.execute_reply": "2023-12-04T21:56:49.353367Z"
    },
    "papermill": {
     "duration": 0.978731,
     "end_time": "2023-12-04T21:56:49.356283",
     "exception": false,
     "start_time": "2023-12-04T21:56:48.377552",
     "status": "completed"
    },
    "tags": []
   },
   "outputs": [],
   "source": [
    "model.evaluate(X_test,y_test)\n"
   ]
  },
  {
   "cell_type": "code",
   "execution_count": null,
   "id": "551634d8",
   "metadata": {
    "execution": {
     "iopub.execute_input": "2023-12-04T21:56:49.410329Z",
     "iopub.status.busy": "2023-12-04T21:56:49.409575Z",
     "iopub.status.idle": "2023-12-04T21:56:50.074494Z",
     "shell.execute_reply": "2023-12-04T21:56:50.073447Z"
    },
    "papermill": {
     "duration": 0.69452,
     "end_time": "2023-12-04T21:56:50.076945",
     "exception": false,
     "start_time": "2023-12-04T21:56:49.382425",
     "status": "completed"
    },
    "tags": []
   },
   "outputs": [],
   "source": [
    "#the output of model.evaluate gives out a tuple: loss, metric specified in model.compile\n",
    "scores = model.evaluate(X_test,y_test, verbose=0)\n"
   ]
  },
  {
   "cell_type": "code",
   "execution_count": null,
   "id": "076fb43c",
   "metadata": {
    "execution": {
     "iopub.execute_input": "2023-12-04T21:56:50.132313Z",
     "iopub.status.busy": "2023-12-04T21:56:50.131996Z",
     "iopub.status.idle": "2023-12-04T21:56:50.137407Z",
     "shell.execute_reply": "2023-12-04T21:56:50.136637Z"
    },
    "papermill": {
     "duration": 0.034823,
     "end_time": "2023-12-04T21:56:50.139334",
     "exception": false,
     "start_time": "2023-12-04T21:56:50.104511",
     "status": "completed"
    },
    "tags": []
   },
   "outputs": [],
   "source": [
    "scores\n"
   ]
  },
  {
   "cell_type": "code",
   "execution_count": null,
   "id": "f7106d3e",
   "metadata": {
    "execution": {
     "iopub.execute_input": "2023-12-04T21:56:50.192394Z",
     "iopub.status.busy": "2023-12-04T21:56:50.192109Z",
     "iopub.status.idle": "2023-12-04T21:56:50.533430Z",
     "shell.execute_reply": "2023-12-04T21:56:50.532457Z"
    },
    "papermill": {
     "duration": 0.370003,
     "end_time": "2023-12-04T21:56:50.535500",
     "exception": false,
     "start_time": "2023-12-04T21:56:50.165497",
     "status": "completed"
    },
    "tags": []
   },
   "outputs": [],
   "source": [
    "pd.DataFrame(history.history).plot(figsize=(8, 5))\n"
   ]
  },
  {
   "cell_type": "markdown",
   "id": "d268ff32",
   "metadata": {
    "papermill": {
     "duration": 0.026521,
     "end_time": "2023-12-04T21:56:50.588987",
     "exception": false,
     "start_time": "2023-12-04T21:56:50.562466",
     "status": "completed"
    },
    "tags": []
   },
   "source": [
    " Building a CNN"
   ]
  },
  {
   "cell_type": "code",
   "execution_count": null,
   "id": "ce559483",
   "metadata": {
    "execution": {
     "iopub.execute_input": "2023-12-04T21:56:50.644458Z",
     "iopub.status.busy": "2023-12-04T21:56:50.644108Z",
     "iopub.status.idle": "2023-12-04T21:56:50.648916Z",
     "shell.execute_reply": "2023-12-04T21:56:50.647988Z"
    },
    "papermill": {
     "duration": 0.035329,
     "end_time": "2023-12-04T21:56:50.651019",
     "exception": false,
     "start_time": "2023-12-04T21:56:50.615690",
     "status": "completed"
    },
    "tags": []
   },
   "outputs": [],
   "source": [
    "from tensorflow.keras.models import Sequential\n",
    "from tensorflow.keras.layers import Dense,BatchNormalization,Conv2D,MaxPooling2D,Dropout,Input\n",
    "from tensorflow.keras.layers import Flatten\n",
    "\n"
   ]
  },
  {
   "cell_type": "code",
   "execution_count": null,
   "id": "cbef5f88",
   "metadata": {
    "execution": {
     "iopub.execute_input": "2023-12-04T21:56:50.707741Z",
     "iopub.status.busy": "2023-12-04T21:56:50.707433Z",
     "iopub.status.idle": "2023-12-04T21:56:50.714401Z",
     "shell.execute_reply": "2023-12-04T21:56:50.713670Z"
    },
    "papermill": {
     "duration": 0.03807,
     "end_time": "2023-12-04T21:56:50.716375",
     "exception": false,
     "start_time": "2023-12-04T21:56:50.678305",
     "status": "completed"
    },
    "tags": []
   },
   "outputs": [],
   "source": [
    "model2=Sequential()\n"
   ]
  },
  {
   "cell_type": "code",
   "execution_count": null,
   "id": "01ea1a6c",
   "metadata": {
    "execution": {
     "iopub.execute_input": "2023-12-04T21:56:50.772583Z",
     "iopub.status.busy": "2023-12-04T21:56:50.771979Z",
     "iopub.status.idle": "2023-12-04T21:56:50.877549Z",
     "shell.execute_reply": "2023-12-04T21:56:50.876708Z"
    },
    "papermill": {
     "duration": 0.136001,
     "end_time": "2023-12-04T21:56:50.879971",
     "exception": false,
     "start_time": "2023-12-04T21:56:50.743970",
     "status": "completed"
    },
    "tags": []
   },
   "outputs": [],
   "source": [
    "#model2.add(Flatten(input_shape=(28,28)))\n",
    "model2.add(Input(shape=(28,28,1)))\n",
    "model2.add(Conv2D(32,kernel_size=(3,3),activation='relu'))\n",
    "model2.add(BatchNormalization())\n",
    "model2.add(MaxPooling2D(pool_size=(2,2)))\n",
    "model2.add(Conv2D(64,kernel_size=(3,3),activation='relu'))\n",
    "model2.add(BatchNormalization())\n",
    "model2.add(MaxPooling2D(pool_size=(2,2)))\n",
    "model2.add(Flatten())\n",
    "model2.add(Dense(100,activation='relu'))\n",
    "model2.add(Dropout(0.5))\n",
    "model2.add(Dense(10,activation='softmax'))\n"
   ]
  },
  {
   "cell_type": "code",
   "execution_count": null,
   "id": "47726436",
   "metadata": {
    "execution": {
     "iopub.execute_input": "2023-12-04T21:56:50.939226Z",
     "iopub.status.busy": "2023-12-04T21:56:50.938909Z",
     "iopub.status.idle": "2023-12-04T21:56:50.943263Z",
     "shell.execute_reply": "2023-12-04T21:56:50.942372Z"
    },
    "papermill": {
     "duration": 0.036309,
     "end_time": "2023-12-04T21:56:50.945301",
     "exception": false,
     "start_time": "2023-12-04T21:56:50.908992",
     "status": "completed"
    },
    "tags": []
   },
   "outputs": [],
   "source": [
    "# #Using LeNet-5\n",
    "# model2 = Sequential()\n",
    "# model2.add(Input(shape=(28,28,1)))\n",
    "# model2.add(layers.Conv2D(filters=6, kernel_size=(3, 3), activation='relu', input_shape=(32,32,1)))\n",
    "# model2.add(layers.AveragePooling2D())\n",
    "\n",
    "# model2.add(layers.Conv2D(filters=16, kernel_size=(3, 3), activation='relu'))\n",
    "# model2.add(layers.AveragePooling2D())\n",
    "\n",
    "# model2.add(layers.Flatten())\n",
    "\n",
    "# model2.add(layers.Dense(units=120, activation='relu'))\n",
    "\n",
    "# model2.add(layers.Dense(units=84, activation='relu'))\n",
    "\n",
    "# model2.add(layers.Dense(units=10, activation = 'softmax'))\n"
   ]
  },
  {
   "cell_type": "code",
   "execution_count": null,
   "id": "557ebc4b",
   "metadata": {
    "execution": {
     "iopub.execute_input": "2023-12-04T21:56:51.003307Z",
     "iopub.status.busy": "2023-12-04T21:56:51.003014Z",
     "iopub.status.idle": "2023-12-04T21:56:51.013306Z",
     "shell.execute_reply": "2023-12-04T21:56:51.012611Z"
    },
    "papermill": {
     "duration": 0.040923,
     "end_time": "2023-12-04T21:56:51.015156",
     "exception": false,
     "start_time": "2023-12-04T21:56:50.974233",
     "status": "completed"
    },
    "tags": []
   },
   "outputs": [],
   "source": [
    "model2.compile(loss=\"categorical_crossentropy\",optimizer=\"adam\",metrics=[\"accuracy\"])\n"
   ]
  },
  {
   "cell_type": "code",
   "execution_count": null,
   "id": "fee9c3c2",
   "metadata": {
    "execution": {
     "iopub.execute_input": "2023-12-04T21:56:51.071347Z",
     "iopub.status.busy": "2023-12-04T21:56:51.071010Z",
     "iopub.status.idle": "2023-12-04T21:56:51.109242Z",
     "shell.execute_reply": "2023-12-04T21:56:51.108272Z"
    },
    "papermill": {
     "duration": 0.080047,
     "end_time": "2023-12-04T21:56:51.121780",
     "exception": false,
     "start_time": "2023-12-04T21:56:51.041733",
     "status": "completed"
    },
    "tags": []
   },
   "outputs": [],
   "source": [
    "print(model2.summary())\n"
   ]
  },
  {
   "cell_type": "code",
   "execution_count": null,
   "id": "f8396a48",
   "metadata": {
    "execution": {
     "iopub.execute_input": "2023-12-04T21:56:51.188594Z",
     "iopub.status.busy": "2023-12-04T21:56:51.188295Z",
     "iopub.status.idle": "2023-12-04T21:57:11.485186Z",
     "shell.execute_reply": "2023-12-04T21:57:11.484090Z"
    },
    "papermill": {
     "duration": 20.332805,
     "end_time": "2023-12-04T21:57:11.487319",
     "exception": false,
     "start_time": "2023-12-04T21:56:51.154514",
     "status": "completed"
    },
    "tags": []
   },
   "outputs": [],
   "source": [
    "history2=model2.fit(X_train,y_train,epochs=10,batch_size=100,verbose=2,validation_split=0.1)\n"
   ]
  },
  {
   "cell_type": "code",
   "execution_count": null,
   "id": "cb4e2a83",
   "metadata": {
    "execution": {
     "iopub.execute_input": "2023-12-04T21:57:11.550082Z",
     "iopub.status.busy": "2023-12-04T21:57:11.549750Z",
     "iopub.status.idle": "2023-12-04T21:57:11.818508Z",
     "shell.execute_reply": "2023-12-04T21:57:11.817628Z"
    },
    "papermill": {
     "duration": 0.302285,
     "end_time": "2023-12-04T21:57:11.820543",
     "exception": false,
     "start_time": "2023-12-04T21:57:11.518258",
     "status": "completed"
    },
    "tags": []
   },
   "outputs": [],
   "source": [
    "pd.DataFrame(history2.history).plot(figsize=(8, 5))\n"
   ]
  },
  {
   "cell_type": "code",
   "execution_count": null,
   "id": "0e34c47b",
   "metadata": {
    "execution": {
     "iopub.execute_input": "2023-12-04T21:57:11.887964Z",
     "iopub.status.busy": "2023-12-04T21:57:11.887625Z",
     "iopub.status.idle": "2023-12-04T21:57:12.664803Z",
     "shell.execute_reply": "2023-12-04T21:57:12.663584Z"
    },
    "papermill": {
     "duration": 0.814506,
     "end_time": "2023-12-04T21:57:12.666882",
     "exception": false,
     "start_time": "2023-12-04T21:57:11.852376",
     "status": "completed"
    },
    "tags": []
   },
   "outputs": [],
   "source": [
    "cnn_predict=model2.predict(X_test)\n"
   ]
  },
  {
   "cell_type": "code",
   "execution_count": null,
   "id": "62176742",
   "metadata": {
    "execution": {
     "iopub.execute_input": "2023-12-04T21:57:12.733150Z",
     "iopub.status.busy": "2023-12-04T21:57:12.732790Z",
     "iopub.status.idle": "2023-12-04T21:57:13.516920Z",
     "shell.execute_reply": "2023-12-04T21:57:13.516108Z"
    },
    "papermill": {
     "duration": 0.819942,
     "end_time": "2023-12-04T21:57:13.519022",
     "exception": false,
     "start_time": "2023-12-04T21:57:12.699080",
     "status": "completed"
    },
    "tags": []
   },
   "outputs": [],
   "source": [
    "model2.evaluate(X_test,y_test)\n"
   ]
  },
  {
   "cell_type": "markdown",
   "id": "2f79e4fa",
   "metadata": {
    "papermill": {
     "duration": 0.036582,
     "end_time": "2023-12-04T21:57:13.590727",
     "exception": false,
     "start_time": "2023-12-04T21:57:13.554145",
     "status": "completed"
    },
    "tags": []
   },
   "source": [
    "**Test Prediction**"
   ]
  },
  {
   "cell_type": "code",
   "execution_count": null,
   "id": "a0d5b40e",
   "metadata": {
    "execution": {
     "iopub.execute_input": "2023-12-04T21:57:13.659589Z",
     "iopub.status.busy": "2023-12-04T21:57:13.659003Z",
     "iopub.status.idle": "2023-12-04T21:57:15.825861Z",
     "shell.execute_reply": "2023-12-04T21:57:15.825042Z"
    },
    "papermill": {
     "duration": 2.203433,
     "end_time": "2023-12-04T21:57:15.828084",
     "exception": false,
     "start_time": "2023-12-04T21:57:13.624651",
     "status": "completed"
    },
    "tags": []
   },
   "outputs": [],
   "source": [
    "test_data=pd.read_csv(\"test.csv\")\n"
   ]
  },
  {
   "cell_type": "code",
   "execution_count": null,
   "id": "d91552a8",
   "metadata": {
    "execution": {
     "iopub.execute_input": "2023-12-04T21:57:15.899577Z",
     "iopub.status.busy": "2023-12-04T21:57:15.898713Z",
     "iopub.status.idle": "2023-12-04T21:57:15.944305Z",
     "shell.execute_reply": "2023-12-04T21:57:15.943438Z"
    },
    "papermill": {
     "duration": 0.084533,
     "end_time": "2023-12-04T21:57:15.946648",
     "exception": false,
     "start_time": "2023-12-04T21:57:15.862115",
     "status": "completed"
    },
    "tags": []
   },
   "outputs": [],
   "source": [
    "test_X=test_data/255\n"
   ]
  },
  {
   "cell_type": "code",
   "execution_count": null,
   "id": "1cb94d97",
   "metadata": {
    "execution": {
     "iopub.execute_input": "2023-12-04T21:57:16.016340Z",
     "iopub.status.busy": "2023-12-04T21:57:16.016011Z",
     "iopub.status.idle": "2023-12-04T21:57:16.020595Z",
     "shell.execute_reply": "2023-12-04T21:57:16.019745Z"
    },
    "papermill": {
     "duration": 0.041572,
     "end_time": "2023-12-04T21:57:16.022600",
     "exception": false,
     "start_time": "2023-12-04T21:57:15.981028",
     "status": "completed"
    },
    "tags": []
   },
   "outputs": [],
   "source": [
    "test_X=test_X.values.reshape(-1,28,28,1)\n"
   ]
  },
  {
   "cell_type": "code",
   "execution_count": null,
   "id": "3267b390",
   "metadata": {
    "execution": {
     "iopub.execute_input": "2023-12-04T21:57:16.093374Z",
     "iopub.status.busy": "2023-12-04T21:57:16.093072Z",
     "iopub.status.idle": "2023-12-04T21:57:18.360043Z",
     "shell.execute_reply": "2023-12-04T21:57:18.359192Z"
    },
    "papermill": {
     "duration": 2.305386,
     "end_time": "2023-12-04T21:57:18.362476",
     "exception": false,
     "start_time": "2023-12-04T21:57:16.057090",
     "status": "completed"
    },
    "tags": []
   },
   "outputs": [],
   "source": [
    "new_predict=model2.predict(test_X)\n"
   ]
  },
  {
   "cell_type": "code",
   "execution_count": null,
   "id": "244c864b",
   "metadata": {
    "execution": {
     "iopub.execute_input": "2023-12-04T21:57:18.439374Z",
     "iopub.status.busy": "2023-12-04T21:57:18.439024Z",
     "iopub.status.idle": "2023-12-04T21:57:18.444313Z",
     "shell.execute_reply": "2023-12-04T21:57:18.443524Z"
    },
    "papermill": {
     "duration": 0.045519,
     "end_time": "2023-12-04T21:57:18.446210",
     "exception": false,
     "start_time": "2023-12-04T21:57:18.400691",
     "status": "completed"
    },
    "tags": []
   },
   "outputs": [],
   "source": [
    "new_predict1=np.argmax(new_predict,axis=1)"
   ]
  },
  {
   "cell_type": "code",
   "execution_count": null,
   "id": "76fac9b8",
   "metadata": {
    "execution": {
     "iopub.execute_input": "2023-12-04T21:57:18.518309Z",
     "iopub.status.busy": "2023-12-04T21:57:18.517743Z",
     "iopub.status.idle": "2023-12-04T21:57:18.523397Z",
     "shell.execute_reply": "2023-12-04T21:57:18.522597Z"
    },
    "papermill": {
     "duration": 0.043858,
     "end_time": "2023-12-04T21:57:18.525776",
     "exception": false,
     "start_time": "2023-12-04T21:57:18.481918",
     "status": "completed"
    },
    "tags": []
   },
   "outputs": [],
   "source": [
    "results = pd.Series(new_predict1,name=\"Label\")\n",
    "\n",
    "submission=pd.concat([pd.Series(range(1,28001),name = \"ImageId\"),results],axis = 1)"
   ]
  },
  {
   "cell_type": "code",
   "execution_count": null,
   "id": "2a41cf5e",
   "metadata": {
    "execution": {
     "iopub.execute_input": "2023-12-04T21:57:18.601618Z",
     "iopub.status.busy": "2023-12-04T21:57:18.600738Z",
     "iopub.status.idle": "2023-12-04T21:57:18.662517Z",
     "shell.execute_reply": "2023-12-04T21:57:18.661766Z"
    },
    "papermill": {
     "duration": 0.101098,
     "end_time": "2023-12-04T21:57:18.664595",
     "exception": false,
     "start_time": "2023-12-04T21:57:18.563497",
     "status": "completed"
    },
    "tags": []
   },
   "outputs": [],
   "source": [
    "submission.to_csv(\"submission.csv\",index=False)"
   ]
  },
  {
   "cell_type": "code",
   "execution_count": null,
   "id": "0bf87911",
   "metadata": {
    "papermill": {
     "duration": 0.037107,
     "end_time": "2023-12-04T21:57:18.737840",
     "exception": false,
     "start_time": "2023-12-04T21:57:18.700733",
     "status": "completed"
    },
    "tags": []
   },
   "outputs": [],
   "source": []
  }
 ],
 "metadata": {
  "kaggle": {
   "accelerator": "nvidiaTeslaT4",
   "dataSources": [
    {
     "databundleVersionId": 861823,
     "sourceId": 3004,
     "sourceType": "competition"
    }
   ],
   "dockerImageVersionId": 30588,
   "isGpuEnabled": true,
   "isInternetEnabled": true,
   "language": "python",
   "sourceType": "notebook"
  },
  "kernelspec": {
   "display_name": "Python 3 (ipykernel)",
   "language": "python",
   "name": "python3"
  },
  "language_info": {
   "codemirror_mode": {
    "name": "ipython",
    "version": 3
   },
   "file_extension": ".py",
   "mimetype": "text/x-python",
   "name": "python",
   "nbconvert_exporter": "python",
   "pygments_lexer": "ipython3",
   "version": "3.9.18"
  },
  "papermill": {
   "default_parameters": {},
   "duration": 84.752962,
   "end_time": "2023-12-04T21:57:22.017148",
   "environment_variables": {},
   "exception": null,
   "input_path": "__notebook__.ipynb",
   "output_path": "__notebook__.ipynb",
   "parameters": {},
   "start_time": "2023-12-04T21:55:57.264186",
   "version": "2.4.0"
  }
 },
 "nbformat": 4,
 "nbformat_minor": 5
}
